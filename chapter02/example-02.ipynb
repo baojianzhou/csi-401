{
 "cells": [
  {
   "cell_type": "code",
   "execution_count": 1,
   "metadata": {},
   "outputs": [],
   "source": [
    "%matplotlib inline\n",
    "import matplotlib\n",
    "import numpy as np\n",
    "import matplotlib.pyplot as plt\n",
    "font = {'family' : 'normal',\n",
    "        'weight' : 'bold',\n",
    "        'size'   : 20}\n",
    "matplotlib.rc('font', **font)\n",
    "from pylab import rcParams\n",
    "rcParams['figure.figsize'] = 10, 6\n",
    "from matplotlib import rc\n",
    "rc('font',**{'family':'sans-serif','sans-serif':['Helvetica']})\n",
    "rc('text', usetex=True)"
   ]
  },
  {
   "cell_type": "code",
   "execution_count": 2,
   "metadata": {},
   "outputs": [
    {
     "name": "stdout",
     "output_type": "stream",
     "text": [
      "        true value: 3.1415926536\n",
      "approximated value: 3.1428571429\n",
      "     absolut error: -0.0012644893\n",
      "    relative error: -0.0004024994\n"
     ]
    }
   ],
   "source": [
    "# In this section, we introduce two errors, namely, absolute error and relative error.\n",
    "# absolute error is defined as: absolute error = true value - approximate value = x_T - x_A\n",
    "# the relative error is defined as: relative error = error / true value = (x_T - x_A) / x_T\n",
    "x_T = np.pi\n",
    "x_A = 22. / 7.\n",
    "abs_err = x_T - x_A\n",
    "rel_err = abs_err / x_T\n",
    "print('        true value: %.10f' % x_T)\n",
    "print('approximated value: %.10f' % x_A)\n",
    "print('     absolut error: %.10f' % abs_err)\n",
    "print('    relative error: %.10f' % rel_err)"
   ]
  },
  {
   "cell_type": "code",
   "execution_count": 3,
   "metadata": {},
   "outputs": [
    {
     "name": "stdout",
     "output_type": "stream",
     "text": [
      "----------------------------------------\n",
      "        true value: 152.0000000000\n",
      "approximated value: 151.0000000000\n",
      "     absolut error: 1.0000000000\n",
      "    relative error: 0.0065789474\n",
      "----------------------------------------\n",
      "        true value: 2.0000000000\n",
      "approximated value: 1.0000000000\n",
      "     absolut error: 1.0000000000\n",
      "    relative error: 0.5000000000\n"
     ]
    }
   ],
   "source": [
    "# relative error vs absolute error, which one is better ? Try the following two examples:\n",
    "# Example 1\n",
    "# Suppose the exact distance between NYC and Albany is x_T = 152miles, and the Google maps gives me\n",
    "# an estimated distance x_A=151miles. \n",
    "x_T = 152.0 # miles\n",
    "x_A = 151.0 # miles\n",
    "abs_err = x_T - x_A\n",
    "rel_err = abs_err / x_T\n",
    "print('-'*40)\n",
    "print('        true value: %.10f' % x_T)\n",
    "print('approximated value: %.10f' % x_A)\n",
    "print('     absolut error: %.10f' % abs_err)\n",
    "print('    relative error: %.10f' % rel_err)\n",
    "# Example 2\n",
    "# Suppose the exact distance between UAlbany to Crossgates is x_T = 2miles, and the Google maps gives me\n",
    "# an estimated distance x_A = 1miles. Then two errors are:\n",
    "x_T = 2.0 # miles\n",
    "x_A = 1.0 # miles\n",
    "abs_err = x_T - x_A\n",
    "rel_err = abs_err / x_T\n",
    "print('-'*40)\n",
    "print('        true value: %.10f' % x_T)\n",
    "print('approximated value: %.10f' % x_A)\n",
    "print('     absolut error: %.10f' % abs_err)\n",
    "print('    relative error: %.10f' % rel_err)\n",
    "\n",
    "# We can see that the estimation of Example 1 is much better than Example 2, \n",
    "# in this case, the relative error is more accurate."
   ]
  },
  {
   "cell_type": "code",
   "execution_count": 4,
   "metadata": {},
   "outputs": [],
   "source": [
    "# Significant digits"
   ]
  },
  {
   "cell_type": "code",
   "execution_count": 5,
   "metadata": {},
   "outputs": [
    {
     "data": {
      "text/plain": [
       "Text(0.5,1,'true v.s. estimated population of U.S.')"
      ]
     },
     "execution_count": 5,
     "metadata": {},
     "output_type": "execute_result"
    },
    {
     "name": "stderr",
     "output_type": "stream",
     "text": [
      "/network/rit/lab/ceashpc/bz383376/opt/env-python2.7.14/local/lib/python2.7/site-packages/matplotlib/font_manager.py:1328: UserWarning: findfont: Font family [u'sans-serif'] not found. Falling back to DejaVu Sans\n",
      "  (prop.get_family(), self.defaultFamily[fontext]))\n"
     ]
    },
    {
     "data": {
      "image/png": "[encoded data removed]",
      "text/plain": [
       "<Figure size 432x288 with 1 Axes>"
      ]
     },
     "metadata": {
      "needs_background": "light"
     },
     "output_type": "display_data"
    }
   ],
   "source": [
    "# 4 types of errors\n",
    "# modeling errors\n",
    "def population_growth_model(t):\n",
    "    k = 0.02975\n",
    "    n_0 = 3929000 * np.exp(-1790*k)\n",
    "    population = n_0 * np.exp(k * t)\n",
    "    return population\n",
    "\n",
    "list_years = [1790, 1800, 1810, 1820, 1830, 1840, 1850, 1860, 1870, 1880]\n",
    "# true populations listed by years.\n",
    "true_populations = [3929214, 5236631, 7239881, 9638453, 12866020,\n",
    "                    17069453, 23191876, 31443321, 38558371, 49371340]\n",
    "\n",
    "# get approximated populations by population growth model.\n",
    "approxi_populations = [population_growth_model(year) for year in list_years]\n",
    "\n",
    "plt.plot(list_years,true_populations,linewidth=2.,color='blue',label='True population')\n",
    "plt.plot(list_years,approxi_populations,linewidth=2.,color='red',label='Estimated population')\n",
    "plt.title('true v.s. estimated population of U.S.')"
   ]
  },
  {
   "cell_type": "code",
   "execution_count": 6,
   "metadata": {},
   "outputs": [
    {
     "name": "stdout",
     "output_type": "stream",
     "text": [
      "The value of x is False.\n",
      "Dandergous code!\n"
     ]
    }
   ],
   "source": [
    "# blunders and mistakes\n",
    "\n",
    "# Example 1\n",
    "pi = 3.1415826 # should be ?\n",
    "\n",
    "# Example 2\n",
    "x = 'True'\n",
    "if x=='true':\n",
    "    print('The value of x is True.')\n",
    "else:\n",
    "    print('The value of x is False.')\n",
    "    \n",
    "# Example 3\n",
    "x = 0.0\n",
    "num_iter = 0\n",
    "while x != 1.0:\n",
    "    x += 0.1\n",
    "    if num_iter > 20000:\n",
    "        print('Dandergous code!')\n",
    "        break\n",
    "    num_iter += 1"
   ]
  },
  {
   "cell_type": "code",
   "execution_count": 7,
   "metadata": {},
   "outputs": [
    {
     "name": "stdout",
     "output_type": "stream",
     "text": [
      "2.9979220e+10 2.9979280e+10\n"
     ]
    }
   ],
   "source": [
    "# Physical measurement errors\n",
    "# the speed of light in a vacuum is \n",
    "epsilon_max = 0.000003\n",
    "epsilon_min = -0.000003\n",
    "c_max = (2.997925 + epsilon_max) * (10. ** 10.) # cm/sec\n",
    "c_min = (2.997925 + epsilon_min) * (10. ** 10.) # cm/sec\n",
    "# because the physical data contain an error, any numerical procedure based on \n",
    "# these observations will contain the effect of this observational errors.\n",
    "print('%.7e %.7e' % (c_min,c_max))"
   ]
  },
  {
   "cell_type": "code",
   "execution_count": 8,
   "metadata": {},
   "outputs": [],
   "source": [
    "# machine representation and arithmetic errors\n",
    "# rounding / chopping"
   ]
  },
  {
   "cell_type": "code",
   "execution_count": 9,
   "metadata": {},
   "outputs": [
    {
     "data": {
      "text/latex": [
       "\\begin{equation} I = \\int_0^1 e^{-x^2} d x \\end{equation}"
      ],
      "text/plain": [
       "<IPython.core.display.Latex object>"
      ]
     },
     "execution_count": 9,
     "metadata": {},
     "output_type": "execute_result"
    }
   ],
   "source": [
    "# mathematical approximation errors\n",
    "# consider evaluating the integral\n",
    "from IPython.display import Latex\n",
    "Latex(r\"\"\"\\begin{equation} I = \\int_0^1 e^{-x^2} d x \\end{equation}\"\"\")"
   ]
  },
  {
   "cell_type": "code",
   "execution_count": 10,
   "metadata": {},
   "outputs": [
    {
     "data": {
      "text/latex": [
       "\\begin{equation} \n",
       "e^{-x^2} \\approx 1 - x^2 + \\frac{x^4}{2!} - \\frac{x^6}{3!} + \\frac{x^8}{4!} \n",
       "\\end{equation}"
      ],
      "text/plain": [
       "<IPython.core.display.Latex object>"
      ]
     },
     "execution_count": 10,
     "metadata": {},
     "output_type": "execute_result"
    }
   ],
   "source": [
    "# which can be approximated by\n",
    "Latex(r\"\"\"\\begin{equation} \n",
    "e^{-x^2} \\approx 1 - x^2 + \\frac{x^4}{2!} - \\frac{x^6}{3!} + \\frac{x^8}{4!} \n",
    "\\end{equation}\"\"\")"
   ]
  },
  {
   "cell_type": "code",
   "execution_count": 11,
   "metadata": {},
   "outputs": [
    {
     "data": {
      "text/latex": [
       "\\begin{equation} \n",
       "I \\approx \\int_0^1 \\Big( 1 - x^2 + \\frac{x^4}{2!} - \\frac{x^6}{3!} + \\frac{x^8}{4!} \\Big) dx\n",
       "\\end{equation}"
      ],
      "text/plain": [
       "<IPython.core.display.Latex object>"
      ]
     },
     "execution_count": 11,
     "metadata": {},
     "output_type": "execute_result"
    }
   ],
   "source": [
    "Latex(r\"\"\"\\begin{equation} \n",
    "I \\approx \\int_0^1 \\Big( 1 - x^2 + \\frac{x^4}{2!} - \\frac{x^6}{3!} + \\frac{x^8}{4!} \\Big) dx\n",
    "\\end{equation}\"\"\")"
   ]
  },
  {
   "cell_type": "code",
   "execution_count": 12,
   "metadata": {},
   "outputs": [
    {
     "data": {
      "image/png": "[encoded data removed]",
      "text/plain": [
       "<Figure size 432x288 with 1 Axes>"
      ]
     },
     "metadata": {
      "needs_background": "light"
     },
     "output_type": "display_data"
    }
   ],
   "source": [
    "x = np.arange(0.0,1.0,0.01)\n",
    "def original_f(x):\n",
    "    return np.exp(-x**2.)\n",
    "def approximated_f(x):\n",
    "    # return 1.0 - x ** 2. + (x ** 4.)/2. - (x ** 6.)/6. + (x ** 8.)/24.\n",
    "    return 1.0 - x ** 2. + (x ** 4.)/2. - (x ** 6.)/6. + (x ** 8.)/24.\n",
    "plt.plot(x,original_f(x),linewidth=1.,color='blue',label='true function')\n",
    "plt.plot(x,approximated_f(x),linewidth=1.,color='red',label='estimated function')\n",
    "plt.legend()\n",
    "plt.show()"
   ]
  },
  {
   "cell_type": "code",
   "execution_count": 13,
   "metadata": {},
   "outputs": [],
   "source": [
    "# Questions: try to remove some terms in approximated"
   ]
  },
  {
   "cell_type": "code",
   "execution_count": 14,
   "metadata": {},
   "outputs": [
    {
     "data": {
      "text/latex": [
       "\\begin{equation} \n",
       "f(x) = x \\Big[ \\sqrt{x+1} - \\sqrt{x} \\Big]\n",
       "\\end{equation}"
      ],
      "text/plain": [
       "<IPython.core.display.Latex object>"
      ]
     },
     "execution_count": 14,
     "metadata": {},
     "output_type": "execute_result"
    }
   ],
   "source": [
    "# loss-of-significant errors.\n",
    "# consider the following problem, try to evaluate the following function\n",
    "Latex(r\"\"\"\\begin{equation} \n",
    "f(x) = x \\Big[ \\sqrt{x+1} - \\sqrt{x} \\Big]\n",
    "\\end{equation}\"\"\")"
   ]
  },
  {
   "cell_type": "code",
   "execution_count": 15,
   "metadata": {},
   "outputs": [
    {
     "data": {
      "image/png": "[encoded data removed]",
      "text/plain": [
       "<Figure size 432x288 with 1 Axes>"
      ]
     },
     "metadata": {
      "needs_background": "light"
     },
     "output_type": "display_data"
    }
   ],
   "source": [
    "x = np.arange(0,10000,1000,dtype=np.float32)\n",
    "def true_f(x):\n",
    "    return x / (np.sqrt(x+1.,dtype=np.float32) + np.sqrt(x,dtype=np.float32))\n",
    "def computed_f(x):\n",
    "    return x * (np.sqrt(x+1.,dtype=np.float32) - np.sqrt(x,dtype=np.float32))\n",
    "plt.plot(x,true_f(x),'-',linewidth=2.,color='blue',label='true f')\n",
    "plt.plot(x,computed_f(x),'-',linewidth=2.,color='red',label='computed f')\n",
    "plt.legend()\n",
    "plt.show()"
   ]
  },
  {
   "cell_type": "code",
   "execution_count": 16,
   "metadata": {},
   "outputs": [],
   "source": [
    "# Question1: let x = np.arange(0,100000,5000,dtype=np.float32)\n",
    "# Question2: let x = np.arange(0,1000000,10000,dtype=np.float32)\n",
    "# Question3: let x = np.arange(0,10000000,10000,dtype=np.float32)"
   ]
  },
  {
   "cell_type": "code",
   "execution_count": 17,
   "metadata": {},
   "outputs": [
    {
     "data": {
      "text/latex": [
       "\\begin{equation} \n",
       "f(x) = x \\Big[ \\sqrt{x+1} - \\sqrt{x} \\Big] = \\frac{x}{\\sqrt{x+1} + \\sqrt{x}}\n",
       "\\end{equation}"
      ],
      "text/plain": [
       "<IPython.core.display.Latex object>"
      ]
     },
     "execution_count": 17,
     "metadata": {},
     "output_type": "execute_result"
    }
   ],
   "source": [
    "# To avoid we can use the following equation\n",
    "Latex(r\"\"\"\\begin{equation} \n",
    "f(x) = x \\Big[ \\sqrt{x+1} - \\sqrt{x} \\Big] = \\frac{x}{\\sqrt{x+1} + \\sqrt{x}}\n",
    "\\end{equation}\"\"\")"
   ]
  },
  {
   "cell_type": "code",
   "execution_count": 18,
   "metadata": {},
   "outputs": [
    {
     "data": {
      "text/latex": [
       "\\begin{equation} \n",
       "f(x) = \\frac{1-cos(x)}{x^2}\n",
       "\\end{equation}"
      ],
      "text/plain": [
       "<IPython.core.display.Latex object>"
      ]
     },
     "execution_count": 18,
     "metadata": {},
     "output_type": "execute_result"
    }
   ],
   "source": [
    "# loss-of-significant errors.\n",
    "# consider the following problem, try to evaluate the following function\n",
    "Latex(r\"\"\"\\begin{equation} \n",
    "f(x) = \\frac{1-cos(x)}{x^2}\n",
    "\\end{equation}\"\"\")"
   ]
  },
  {
   "cell_type": "code",
   "execution_count": 19,
   "metadata": {},
   "outputs": [
    {
     "data": {
      "image/png": "[encoded data removed]",
      "text/plain": [
       "<Figure size 432x288 with 1 Axes>"
      ]
     },
     "metadata": {
      "needs_background": "light"
     },
     "output_type": "display_data"
    }
   ],
   "source": [
    "x = np.arange(0.1,0.0,-1e-3,dtype=np.float32)\n",
    "def true_f(x):\n",
    "    return 1./2. * ((np.sin(x/2.)) / (x/2.)) ** 2.\n",
    "def computed_f(x):\n",
    "    return (1. - np.cos(x)) / (x ** 2.)\n",
    "plt.plot(x,true_f(x),'-',linewidth=2.,color='blue',label='true f')\n",
    "plt.plot(x,computed_f(x),'-',linewidth=2.,color='red',label='computed f')\n",
    "plt.legend()\n",
    "plt.show()"
   ]
  },
  {
   "cell_type": "code",
   "execution_count": 20,
   "metadata": {},
   "outputs": [
    {
     "data": {
      "text/latex": [
       "\\begin{equation} \n",
       "f(x) = \\frac{1-cos(x)}{x^2} = \\frac{1}{2} \\Big[\\frac{\\sin(x/2)}{x/2} \\Big]^2\n",
       "\\end{equation}"
      ],
      "text/plain": [
       "<IPython.core.display.Latex object>"
      ]
     },
     "execution_count": 20,
     "metadata": {},
     "output_type": "execute_result"
    }
   ],
   "source": [
    "# a better equation is:\n",
    "Latex(r\"\"\"\\begin{equation} \n",
    "f(x) = \\frac{1-cos(x)}{x^2} = \\frac{1}{2} \\Big[\\frac{\\sin(x/2)}{x/2} \\Big]^2\n",
    "\\end{equation}\"\"\")"
   ]
  },
  {
   "cell_type": "code",
   "execution_count": 21,
   "metadata": {},
   "outputs": [],
   "source": [
    "# another example is logitic function"
   ]
  },
  {
   "cell_type": "code",
   "execution_count": 22,
   "metadata": {},
   "outputs": [
    {
     "data": {
      "text/latex": [
       "\\begin{equation} \n",
       "f(x) = (x - 1)^3 = -1 + x (3 + x (-3 + x))\n",
       "\\end{equation}"
      ],
      "text/plain": [
       "<IPython.core.display.Latex object>"
      ]
     },
     "execution_count": 22,
     "metadata": {},
     "output_type": "execute_result"
    }
   ],
   "source": [
    "# noise in function evaluation\n",
    "# we try to evaluation the following function\n",
    "Latex(r\"\"\"\\begin{equation} \n",
    "f(x) = (x - 1)^3 = -1 + x (3 + x (-3 + x))\n",
    "\\end{equation}\"\"\")"
   ]
  },
  {
   "cell_type": "code",
   "execution_count": 23,
   "metadata": {},
   "outputs": [
    {
     "data": {
      "image/png": "[encoded data removed]",
      "text/plain": [
       "<Figure size 432x288 with 1 Axes>"
      ]
     },
     "metadata": {
      "needs_background": "light"
     },
     "output_type": "display_data"
    }
   ],
   "source": [
    "x = np.arange(0.0,2.0,0.01)\n",
    "def fun(x):\n",
    "    return (x - 1.) ** 3.\n",
    "plt.plot(x,fun(x),'-',linewidth=2.,color='blue',label=r\"$\\displaystyle f(x) = (x-1)^3$\")\n",
    "plt.legend()\n",
    "plt.show()"
   ]
  },
  {
   "cell_type": "code",
   "execution_count": 24,
   "metadata": {},
   "outputs": [
    {
     "data": {
      "image/png": "[encoded data removed]",
      "text/plain": [
       "<Figure size 432x288 with 1 Axes>"
      ]
     },
     "metadata": {
      "needs_background": "light"
     },
     "output_type": "display_data"
    }
   ],
   "source": [
    "x = np.arange(0.99998,1.00002,0.0000005,dtype=np.float32)\n",
    "def fun(x):\n",
    "    return (x - 1.) ** 3.\n",
    "plt.plot(x,fun(x),'.',linewidth=1.,color='blue',label=r\"$\\displaystyle f(x) = (x-1)^3$\")\n",
    "plt.plot(x,[0.0]*len(x),'-',linewidth=1.,color='k')\n",
    "plt.legend()\n",
    "plt.show()"
   ]
  },
  {
   "cell_type": "code",
   "execution_count": 25,
   "metadata": {},
   "outputs": [
    {
     "data": {
      "text/latex": [
       "\\begin{equation} \n",
       "f(x) = x^{10}\n",
       "\\end{equation}"
      ],
      "text/plain": [
       "<IPython.core.display.Latex object>"
      ]
     },
     "execution_count": 25,
     "metadata": {},
     "output_type": "execute_result"
    }
   ],
   "source": [
    "Latex(r\"\"\"\\begin{equation} \n",
    "f(x) = x^{10}\n",
    "\\end{equation}\"\"\")"
   ]
  },
  {
   "cell_type": "code",
   "execution_count": 26,
   "metadata": {},
   "outputs": [
    {
     "name": "stdout",
     "output_type": "stream",
     "text": [
      "[1.1701966e-38 8.5358316e-39 6.1626724e-39 4.4007624e-39 3.1059192e-39\n",
      " 2.1646502e-39 1.4883709e-39 1.0085636e-39 6.7274658e-40 4.4113997e-40\n",
      " 2.8393950e-40 1.7908314e-40 1.1046156e-40 6.6481803e-41 3.8940683e-41\n",
      " 2.2129305e-41 1.2157665e-41 6.4291574e-42 3.2552163e-42 1.5680530e-42\n",
      " 7.1326092e-43 3.0268047e-43 1.1911037e-43 4.2038954e-44 1.4012985e-44\n",
      " 4.2038954e-45 1.4012985e-45 0.0000000e+00 0.0000000e+00 0.0000000e+00\n",
      " 0.0000000e+00 0.0000000e+00 0.0000000e+00 0.0000000e+00 0.0000000e+00\n",
      " 0.0000000e+00 0.0000000e+00 0.0000000e+00 0.0000000e+00 1.4012985e-45\n",
      " 8.4077908e-45 2.6624671e-44 7.9874012e-44 2.1019477e-43 5.1147394e-43\n",
      " 1.1532686e-42 2.4466671e-42 4.9241628e-42 9.4685737e-42 1.7491007e-41\n",
      " 3.1183095e-41 5.3864512e-41 9.0442605e-41 1.4803177e-40 2.3674657e-40\n",
      " 3.7073873e-40 5.6949190e-40 8.5947801e-40 1.2761877e-39 1.8666585e-39\n",
      " 2.6925558e-39 3.8339050e-39 5.3936006e-39 7.5027944e-39 1.0327301e-38]\n"
     ]
    },
    {
     "data": {
      "image/png": "[encoded data removed]",
      "text/plain": [
       "<Figure size 432x288 with 1 Axes>"
      ]
     },
     "metadata": {
      "needs_background": "light"
     },
     "output_type": "display_data"
    }
   ],
   "source": [
    "x = np.arange(-0.000161,0.000161,0.000005,dtype=np.float32)\n",
    "def fun(x):\n",
    "    return (x) ** np.float32(10.)\n",
    "print(fun(x))\n",
    "plt.plot(x,fun(x),'.',linewidth=1.,color='blue',label=r\"$\\displaystyle f(x) = x^{10}$\")\n",
    "plt.legend()\n",
    "plt.show()"
   ]
  },
  {
   "cell_type": "code",
   "execution_count": 27,
   "metadata": {},
   "outputs": [
    {
     "data": {
      "text/latex": [
       "\\begin{equation} \n",
       "f(x) = \\frac{1}{1+e^{-x}}\n",
       "\\end{equation}"
      ],
      "text/plain": [
       "<IPython.core.display.Latex object>"
      ]
     },
     "execution_count": 27,
     "metadata": {},
     "output_type": "execute_result"
    }
   ],
   "source": [
    "# overflow error\n",
    "Latex(r\"\"\"\\begin{equation} \n",
    "f(x) = \\frac{1}{1+e^{-x}}\n",
    "\\end{equation}\"\"\")"
   ]
  },
  {
   "cell_type": "code",
   "execution_count": 28,
   "metadata": {},
   "outputs": [
    {
     "name": "stderr",
     "output_type": "stream",
     "text": [
      "/network/rit/lab/ceashpc/bz383376/opt/env-python2.7.14/lib/python2.7/site-packages/ipykernel_launcher.py:3: RuntimeWarning: overflow encountered in exp\n",
      "  This is separate from the ipykernel package so we can avoid doing imports until\n"
     ]
    },
    {
     "name": "stdout",
     "output_type": "stream",
     "text": [
      "[0.0000000e+00 0.0000000e+00 0.0000000e+00 0.0000000e+00 0.0000000e+00\n",
      " 0.0000000e+00 0.0000000e+00 0.0000000e+00 0.0000000e+00 0.0000000e+00\n",
      " 0.0000000e+00 0.0000000e+00 1.8048513e-35 3.9754495e-31 8.7565109e-27\n",
      " 1.9287499e-22 4.2483541e-18 9.3576236e-14 2.0611537e-09 4.5397872e-05\n",
      " 5.0000000e-01 9.9995458e-01 1.0000000e+00 1.0000000e+00 1.0000000e+00\n",
      " 1.0000000e+00 1.0000000e+00 1.0000000e+00 1.0000000e+00 1.0000000e+00\n",
      " 1.0000000e+00 1.0000000e+00 1.0000000e+00 1.0000000e+00 1.0000000e+00\n",
      " 1.0000000e+00 1.0000000e+00 1.0000000e+00 1.0000000e+00 1.0000000e+00]\n"
     ]
    },
    {
     "data": {
      "image/png": "[encoded data removed]",
      "text/plain": [
       "<Figure size 432x288 with 1 Axes>"
      ]
     },
     "metadata": {
      "needs_background": "light"
     },
     "output_type": "display_data"
    }
   ],
   "source": [
    "x = np.arange(-200.,200.0,10,dtype=np.float32)\n",
    "def computed_f(x):\n",
    "    return 1./(1+np.exp(-x))\n",
    "print(computed_f(x))\n",
    "plt.plot(x,computed_f(x),'-',linewidth=2.,color='red',label='computed f')\n",
    "plt.legend()\n",
    "plt.show()"
   ]
  },
  {
   "cell_type": "code",
   "execution_count": 29,
   "metadata": {},
   "outputs": [
    {
     "name": "stdout",
     "output_type": "stream",
     "text": [
      "[0.0000000e+00 0.0000000e+00 0.0000000e+00 0.0000000e+00 0.0000000e+00\n",
      " 0.0000000e+00 0.0000000e+00 0.0000000e+00 0.0000000e+00 0.0000000e+00\n",
      " 3.7835059e-44 8.1940087e-40 1.8048513e-35 3.9754500e-31 8.7565109e-27\n",
      " 1.9287499e-22 4.2483541e-18 9.3576229e-14 2.0611537e-09 4.5397868e-05\n",
      " 5.0000000e-01 9.9995458e-01 1.0000000e+00 1.0000000e+00 1.0000000e+00\n",
      " 1.0000000e+00 1.0000000e+00 1.0000000e+00 1.0000000e+00 1.0000000e+00\n",
      " 1.0000000e+00 1.0000000e+00 1.0000000e+00 1.0000000e+00 1.0000000e+00\n",
      " 1.0000000e+00 1.0000000e+00 1.0000000e+00 1.0000000e+00 1.0000000e+00]\n"
     ]
    },
    {
     "data": {
      "image/png": "[encoded data removed]",
      "text/plain": [
       "<Figure size 432x288 with 1 Axes>"
      ]
     },
     "metadata": {
      "needs_background": "light"
     },
     "output_type": "display_data"
    }
   ],
   "source": [
    "x = np.arange(-200.,200.0,10,dtype=np.float32)\n",
    "def true_f(x):\n",
    "    re = np.zeros_like(x,dtype=np.float32)\n",
    "    for ind, _ in enumerate(x):\n",
    "        if _ < 0.0:\n",
    "            re[ind] = np.exp(_)/(1+np.exp(_))\n",
    "        elif _ >= 0.0:\n",
    "            re[ind] = 1./(1+np.exp(-_))\n",
    "    return re\n",
    "print(true_f(x))\n",
    "plt.plot(x,true_f(x),'-',linewidth=2.,color='red',label='computed f')\n",
    "plt.legend()\n",
    "plt.show()"
   ]
  },
  {
   "cell_type": "code",
   "execution_count": 30,
   "metadata": {},
   "outputs": [],
   "source": [
    "# some references\n",
    "# https://en.wikipedia.org/wiki/Kahan_summation_algorithm"
   ]
  },
  {
   "cell_type": "markdown",
   "metadata": {},
   "source": [
    "* Some references\n",
    "* https://en.wikipedia.org/wiki/Karlsruhe_Accurate_Arithmetic\n",
    "* https://en.wikipedia.org/wiki/Kahan_summation_algorithm\n"
   ]
  }
 ],
 "metadata": {
  "kernelspec": {
   "display_name": "Python 2",
   "language": "python",
   "name": "python2"
  },
  "language_info": {
   "codemirror_mode": {
    "name": "ipython",
    "version": 2
   },
   "file_extension": ".py",
   "mimetype": "text/x-python",
   "name": "python",
   "nbconvert_exporter": "python",
   "pygments_lexer": "ipython2",
   "version": "2.7.15rc1"
  }
 },
 "nbformat": 4,
 "nbformat_minor": 2
}
