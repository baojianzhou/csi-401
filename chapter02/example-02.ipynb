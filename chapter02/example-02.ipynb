{
 "cells": [
  {
   "cell_type": "code",
   "execution_count": 2,
   "metadata": {},
   "outputs": [],
   "source": [
    "import warnings\n",
    "warnings.filterwarnings(\"ignore\", category=RuntimeWarning) \n",
    "# NumPy is the fundamental package for scientific computing with Python.\n",
    "# Numpy is as easy as Matlab. It is also as powerful as Matlab.\n",
    "import numpy as np\n",
    "from IPython.display import Latex"
   ]
  },
  {
   "cell_type": "code",
   "execution_count": 3,
   "metadata": {},
   "outputs": [
    {
     "data": {
      "text/latex": [
       "\\begin{eqnarray}\\text{fl}(x) = x\\cdot (1+\\epsilon)\\end{eqnarray}"
      ],
      "text/plain": [
       "<IPython.core.display.Latex object>"
      ]
     },
     "execution_count": 3,
     "metadata": {},
     "output_type": "execute_result"
    }
   ],
   "source": [
    "# It can be shown that any machine number fl(x) can be written in the form\n",
    "Latex(r\"\"\"\\begin{eqnarray}\\text{fl}(x) = x\\cdot (1+\\epsilon)\\end{eqnarray}\"\"\")"
   ]
  },
  {
   "cell_type": "code",
   "execution_count": 15,
   "metadata": {},
   "outputs": [
    {
     "data": {
      "text/plain": [
       "('0.10000000149011611938477', '0.10000000000000000555112', False, True)"
      ]
     },
     "execution_count": 15,
     "metadata": {},
     "output_type": "execute_result"
    }
   ],
   "source": [
    "x = np.float32(0.1)\n",
    "y = np.float64(0.1)\n",
    "a = np.float32(0.5)\n",
    "b = np.float64(0.5)\n",
    "'%.23f' % x, '%.23f' % y, x == y, a == b"
   ]
  },
  {
   "cell_type": "code",
   "execution_count": 14,
   "metadata": {},
   "outputs": [
    {
     "data": {
      "text/plain": [
       "('0.33333334326744079589844', '0.33333333333333331482962', False, True)"
      ]
     },
     "execution_count": 14,
     "metadata": {},
     "output_type": "execute_result"
    }
   ],
   "source": [
    "x = np.float32(1./3.)\n",
    "y = np.float64(1./3.)\n",
    "a = np.float32(2./4.)\n",
    "b = np.float64(2./4.)\n",
    "'%.23f' % x, '%.23f' % y, x == y, a == b"
   ]
  },
  {
   "cell_type": "code",
   "execution_count": 30,
   "metadata": {},
   "outputs": [
    {
     "name": "stdout",
     "output_type": "stream",
     "text": [
      "0.100000001490116119384765625000\n",
      "0.200000002980232238769531250000\n",
      "0.300000011920928955078125000000\n",
      "0.400000005960464477539062500000\n",
      "0.500000000000000000000000000000\n",
      "0.600000023841857910156250000000\n",
      "0.700000047683715820312500000000\n",
      "0.800000071525573730468750000000\n",
      "0.900000095367431640625000000000\n",
      "1.000000119209289550781250000000\n",
      "1.100000143051147460937500000000\n"
     ]
    }
   ],
   "source": [
    "x = np.float32(0.0)\n",
    "num_iter = 0\n",
    "while x != 1.0:\n",
    "    x = x + np.float32(0.1)\n",
    "    print('%.30f' % x)\n",
    "    num_iter += 1\n",
    "    if num_iter > 10:\n",
    "        break"
   ]
  },
  {
   "cell_type": "code",
   "execution_count": 32,
   "metadata": {},
   "outputs": [
    {
     "name": "stdout",
     "output_type": "stream",
     "text": [
      "0.250000000000000000000000000000\n",
      "0.500000000000000000000000000000\n",
      "0.750000000000000000000000000000\n",
      "1.000000000000000000000000000000\n"
     ]
    }
   ],
   "source": [
    "x = np.float32(0.0)\n",
    "num_iter = 0\n",
    "while x != 1.0:\n",
    "    x = x + np.float32(0.25)\n",
    "    num_iter += 1\n",
    "    print('%.30f' % x)\n",
    "    if num_iter > 4:\n",
    "        print('error')\n",
    "        break"
   ]
  },
  {
   "cell_type": "code",
   "execution_count": 37,
   "metadata": {},
   "outputs": [
    {
     "name": "stdout",
     "output_type": "stream",
     "text": [
      "0.100000000000000005551115123125782702118158340454101562500000\n",
      "0.100000001490116119384765625000000000000000000000000000000000\n",
      "0.100000000000000005551115123125782702118158340454101562500000\n"
     ]
    }
   ],
   "source": [
    "x = 0.1\n",
    "print('%.60f' % x)\n",
    "x = np.float32(0.1)\n",
    "print('%.60f' % x)\n",
    "x = np.float64(0.1)\n",
    "print('%.60f' % x)"
   ]
  }
 ],
 "metadata": {
  "kernelspec": {
   "display_name": "Python 2",
   "language": "python",
   "name": "python2"
  },
  "language_info": {
   "codemirror_mode": {
    "name": "ipython",
    "version": 2
   },
   "file_extension": ".py",
   "mimetype": "text/x-python",
   "name": "python",
   "nbconvert_exporter": "python",
   "pygments_lexer": "ipython2",
   "version": "2.7.15rc1"
  }
 },
 "nbformat": 4,
 "nbformat_minor": 2
}
