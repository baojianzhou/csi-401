{
 "cells": [
  {
   "cell_type": "markdown",
   "metadata": {},
   "source": [
    "In this chapter, we will discuss the following topics/questions:\n",
    "#### 1. How to store a real number into a computer ?\n",
    "#### 2. What kind of errors could occur in a numerical procedure ?\n",
    "#### 3. How does an error propagate in basical operations such as addition, substrction, multiplication and division ?\n",
    "#### 4. How do the errors propagate in a summation/ a inner product/a loop ?"
   ]
  },
  {
   "cell_type": "code",
   "execution_count": 1,
   "metadata": {
    "scrolled": true
   },
   "outputs": [],
   "source": [
    "# NumPy is the fundamental package for scientific computing with Python. \n",
    "# We can check the difference between Numpy and Matlab as this \n",
    "# URL: https://docs.scipy.org/doc/numpy/user/numpy-for-matlab-users.html\n",
    "# Numpy is as easy as Matlab. It is also as powerful as Matlab.\n",
    "# all types of numpy supported can be found at\n",
    "# https://docs.scipy.org/doc/numpy-1.13.0/user/basics.types.html\n",
    "import numpy as np"
   ]
  },
  {
   "cell_type": "code",
   "execution_count": 2,
   "metadata": {},
   "outputs": [],
   "source": [
    "# some others packages used\n",
    "import warnings\n",
    "from IPython.display import Latex\n",
    "warnings.filterwarnings(\"ignore\", category=RuntimeWarning) \n",
    "# np.float32 is the IEEE 754 single precision\n",
    "# np.float64 is the IEEE 754 double precision"
   ]
  },
  {
   "cell_type": "code",
   "execution_count": 3,
   "metadata": {},
   "outputs": [
    {
     "data": {
      "text/latex": [
       "\\begin{equation} x = \\sigma \\cdot \\bar{x} \\cdot 10^e \\end{equation}"
      ],
      "text/plain": [
       "<IPython.core.display.Latex object>"
      ]
     },
     "execution_count": 3,
     "metadata": {},
     "output_type": "execute_result"
    }
   ],
   "source": [
    "# (decimal) scientific notation\n",
    "Latex(r\"\"\"\\begin{equation} x = \\sigma \\cdot \\bar{x} \\cdot 10^e \\end{equation}\"\"\")"
   ]
  },
  {
   "cell_type": "code",
   "execution_count": 4,
   "metadata": {},
   "outputs": [
    {
     "data": {
      "text/latex": [
       "\\begin{equation} x = \\sigma \\cdot \\bar{x} \\cdot 2^e \\end{equation}"
      ],
      "text/plain": [
       "<IPython.core.display.Latex object>"
      ]
     },
     "execution_count": 4,
     "metadata": {},
     "output_type": "execute_result"
    }
   ],
   "source": [
    "# (decimal) scientific notation\n",
    "Latex(r\"\"\"\\begin{equation} x = \\sigma \\cdot \\bar{x} \\cdot 2^e \\end{equation}\"\"\")"
   ]
  },
  {
   "cell_type": "code",
   "execution_count": 5,
   "metadata": {},
   "outputs": [
    {
     "data": {
      "text/latex": [
       "\\begin{equation}b_{1}b_{2}b_{3}\\ldots b_{9}b_{10}\n",
       "b_{11}\\ldots b_{32}\\end{equation}"
      ],
      "text/plain": [
       "<IPython.core.display.Latex object>"
      ]
     },
     "execution_count": 5,
     "metadata": {},
     "output_type": "execute_result"
    }
   ],
   "source": [
    "# single precsion in IEEE 754 contains 32 bits ( 4 bytes)\n",
    "Latex(r\"\"\"\\begin{equation}b_{1}b_{2}b_{3}\\ldots b_{9}b_{10}\n",
    "b_{11}\\ldots b_{32}\\end{equation}\"\"\")"
   ]
  },
  {
   "cell_type": "code",
   "execution_count": 6,
   "metadata": {},
   "outputs": [
    {
     "name": "stdout",
     "output_type": "stream",
     "text": [
      "(-3.4028235e+38, 3.4028235e+38, 1.1920929e-07)\n",
      "  binary of eps: 00110100000000000000000000000000\n",
      "          sigma: 0\n",
      "        E=e+127: 01101000\n",
      "    significant: 00000000000000000000000\n"
     ]
    }
   ],
   "source": [
    "single_min = np.finfo(np.float32).min\n",
    "single_max = np.finfo(np.float32).max\n",
    "single_eps = np.finfo(np.float32).eps\n",
    "print(single_min,single_max,single_eps)\n",
    "import bitstring\n",
    "eps = bitstring.BitArray(float=single_eps, length=32)\n",
    "print('  binary of eps: %s' % eps.bin)\n",
    "print('          sigma: %s' % eps.bin[0])\n",
    "print('        E=e+127: %s' % eps.bin[1:9])\n",
    "print('    significant: %s' % eps.bin[9:])"
   ]
  },
  {
   "cell_type": "code",
   "execution_count": 7,
   "metadata": {},
   "outputs": [
    {
     "data": {
      "text/latex": [
       "\\begin{equation}b_{1}b_{2}b_{3}\\ldots b_{12}b_{13}b_{14}\\ldots b_{64}\\end{equation}"
      ],
      "text/plain": [
       "<IPython.core.display.Latex object>"
      ]
     },
     "execution_count": 7,
     "metadata": {},
     "output_type": "execute_result"
    }
   ],
   "source": [
    "# double precsion in IEEE 754 contains 64 bits ( 8 bytes)\n",
    "Latex(r\"\"\"\\begin{equation}b_{1}b_{2}b_{3}\\ldots b_{12}b_{13}b_{14}\\ldots b_{64}\\end{equation}\"\"\")"
   ]
  },
  {
   "cell_type": "code",
   "execution_count": 8,
   "metadata": {},
   "outputs": [
    {
     "name": "stdout",
     "output_type": "stream",
     "text": [
      "(inf, <type 'numpy.float64'>)\n"
     ]
    }
   ],
   "source": [
    "# to demonstrate that single / double precsion can be \n",
    "x = np.divide(1.0,0.0)\n",
    "print(x, type(x))"
   ]
  },
  {
   "cell_type": "code",
   "execution_count": 9,
   "metadata": {
    "scrolled": true
   },
   "outputs": [
    {
     "data": {
      "text/plain": [
       "(-inf, numpy.float64)"
      ]
     },
     "execution_count": 9,
     "metadata": {},
     "output_type": "execute_result"
    }
   ],
   "source": [
    "x = np.divide(-1.0,0.0)\n",
    "x, type(x)"
   ]
  },
  {
   "cell_type": "code",
   "execution_count": 10,
   "metadata": {},
   "outputs": [
    {
     "data": {
      "text/plain": [
       "(nan, numpy.float64)"
      ]
     },
     "execution_count": 10,
     "metadata": {},
     "output_type": "execute_result"
    }
   ],
   "source": [
    "x = np.divide(0.0,0.0)\n",
    "x, type(x)"
   ]
  },
  {
   "cell_type": "code",
   "execution_count": 11,
   "metadata": {},
   "outputs": [
    {
     "data": {
      "text/plain": [
       "(inf, numpy.float32)"
      ]
     },
     "execution_count": 11,
     "metadata": {},
     "output_type": "execute_result"
    }
   ],
   "source": [
    "a = np.float32(1.0)\n",
    "b = np.float32(0.0)\n",
    "x = np.divide(a,b)\n",
    "x, type(x)"
   ]
  },
  {
   "cell_type": "code",
   "execution_count": 12,
   "metadata": {},
   "outputs": [
    {
     "data": {
      "text/plain": [
       "(inf, numpy.float64)"
      ]
     },
     "execution_count": 12,
     "metadata": {},
     "output_type": "execute_result"
    }
   ],
   "source": [
    "a = np.float64(1.0)\n",
    "b = np.float64(0.0)\n",
    "x = np.divide(a,b)\n",
    "x, type(x)"
   ]
  },
  {
   "cell_type": "code",
   "execution_count": 13,
   "metadata": {},
   "outputs": [
    {
     "data": {
      "text/plain": [
       "(1.1920928955078125e-07, 1.1920929e-07)"
      ]
     },
     "execution_count": 13,
     "metadata": {},
     "output_type": "execute_result"
    }
   ],
   "source": [
    "# machine epsilon: the machine epsilon for any particular floating-point \n",
    "# format is the difference between 1 and the next larger number that \n",
    "# can be stored in that format. \n",
    "# IEEE single precision has precision 24, so the difference is\n",
    "# 1.00000000000000000000001 - 1.00000000000000000000000 = 2^{-23}\n",
    "x = 2 ** (-23)\n",
    "x, np.finfo(np.float32).eps"
   ]
  },
  {
   "cell_type": "code",
   "execution_count": 14,
   "metadata": {},
   "outputs": [
    {
     "data": {
      "text/plain": [
       "(2.220446049250313e-16, 2.220446049250313e-16)"
      ]
     },
     "execution_count": 14,
     "metadata": {},
     "output_type": "execute_result"
    }
   ],
   "source": [
    "# IEEE double precision has precision 53, so the difference is\n",
    "# 1.000...0001 - 1.000...000 = 2^{-52}\n",
    "x = 2 ** (-52)\n",
    "x, np.finfo(np.float64).eps"
   ]
  },
  {
   "cell_type": "code",
   "execution_count": 15,
   "metadata": {},
   "outputs": [
    {
     "data": {
      "text/plain": [
       "('0.10000000149011611938477', 1.0000005960466209e-40, 1.0000007450583317e-50)"
      ]
     },
     "execution_count": 15,
     "metadata": {},
     "output_type": "execute_result"
    }
   ],
   "source": [
    "# we cannot exactly convert a decimal number x=0.1 into a machine number. \n",
    "# x= (0.1)_{10} \\approx 0.000\\overline{1100}\n",
    "x = np.float32(0.1)\n",
    "y = x ** 40\n",
    "z = x ** 50\n",
    "'%.23f' % x, y, z"
   ]
  },
  {
   "cell_type": "code",
   "execution_count": 16,
   "metadata": {},
   "outputs": [
    {
     "data": {
      "text/plain": [
       "('0.10000000000000000555112', 1.0000000000000022e-40, 1.0000000000000027e-50)"
      ]
     },
     "execution_count": 16,
     "metadata": {},
     "output_type": "execute_result"
    }
   ],
   "source": [
    "x = np.float64(0.1)\n",
    "y = x ** 40\n",
    "z = x ** 50\n",
    "'%.23f' % x, y, z"
   ]
  },
  {
   "cell_type": "code",
   "execution_count": 17,
   "metadata": {},
   "outputs": [
    {
     "data": {
      "text/plain": [
       "2147483647"
      ]
     },
     "execution_count": 17,
     "metadata": {},
     "output_type": "execute_result"
    }
   ],
   "source": [
    "np.iinfo(np.int32).max"
   ]
  },
  {
   "cell_type": "code",
   "execution_count": 18,
   "metadata": {},
   "outputs": [
    {
     "data": {
      "text/latex": [
       "\\begin{eqnarray}\\text{fl}(x) = x\\cdot (1+\\epsilon)\\end{eqnarray}"
      ],
      "text/plain": [
       "<IPython.core.display.Latex object>"
      ]
     },
     "execution_count": 18,
     "metadata": {},
     "output_type": "execute_result"
    }
   ],
   "source": [
    "# It can be shown that any machine number fl(x) can be written in the form\n",
    "Latex(r\"\"\"\\begin{eqnarray}\\text{fl}(x) = x\\cdot (1+\\epsilon)\\end{eqnarray}\"\"\")"
   ]
  },
  {
   "cell_type": "code",
   "execution_count": 19,
   "metadata": {},
   "outputs": [
    {
     "data": {
      "text/plain": [
       "('0.10000000149011611938477', '0.10000000000000000555112', False, True)"
      ]
     },
     "execution_count": 19,
     "metadata": {},
     "output_type": "execute_result"
    }
   ],
   "source": [
    "x = np.float32(0.1)\n",
    "y = np.float64(0.1)\n",
    "a = np.float32(0.5)\n",
    "b = np.float64(0.5)\n",
    "'%.23f' % x, '%.23f' % y, x == y, a == b"
   ]
  },
  {
   "cell_type": "code",
   "execution_count": 20,
   "metadata": {},
   "outputs": [
    {
     "data": {
      "text/plain": [
       "('0.33333334326744079589844', '0.33333333333333331482962', False, True)"
      ]
     },
     "execution_count": 20,
     "metadata": {},
     "output_type": "execute_result"
    }
   ],
   "source": [
    "x = np.float32(1./3.)\n",
    "y = np.float64(1./3.)\n",
    "a = np.float32(2./4.)\n",
    "b = np.float64(2./4.)\n",
    "'%.23f' % x, '%.23f' % y, x == y, a == b"
   ]
  },
  {
   "cell_type": "code",
   "execution_count": 21,
   "metadata": {},
   "outputs": [
    {
     "name": "stdout",
     "output_type": "stream",
     "text": [
      "0.100000001490116119384765625000\n",
      "0.200000002980232238769531250000\n",
      "0.300000011920928955078125000000\n",
      "0.400000005960464477539062500000\n",
      "0.500000000000000000000000000000\n",
      "0.600000023841857910156250000000\n",
      "0.700000047683715820312500000000\n",
      "0.800000071525573730468750000000\n",
      "0.900000095367431640625000000000\n",
      "1.000000119209289550781250000000\n",
      "1.100000143051147460937500000000\n"
     ]
    }
   ],
   "source": [
    "x = np.float32(0.0)\n",
    "num_iter = 0\n",
    "while x != 1.0:\n",
    "    x = x + np.float32(0.1)\n",
    "    print('%.30f' % x)\n",
    "    num_iter += 1\n",
    "    if num_iter > 10:\n",
    "        break"
   ]
  },
  {
   "cell_type": "code",
   "execution_count": 22,
   "metadata": {},
   "outputs": [
    {
     "name": "stdout",
     "output_type": "stream",
     "text": [
      "0.100000001490116119384765625000\n",
      "0.200000002980232238769531250000\n",
      "0.300000011920928955078125000000\n",
      "0.400000005960464477539062500000\n",
      "0.500000000000000000000000000000\n",
      "0.600000023841857910156250000000\n",
      "0.700000047683715820312500000000\n",
      "0.800000071525573730468750000000\n",
      "0.900000095367431640625000000000\n",
      "1.000000119209289550781250000000\n"
     ]
    }
   ],
   "source": [
    "x = np.float32(0.0)\n",
    "while x < 1.0:\n",
    "    x = x + np.float32(0.1)\n",
    "    print('%.30f' % x)"
   ]
  },
  {
   "cell_type": "code",
   "execution_count": 23,
   "metadata": {},
   "outputs": [
    {
     "name": "stdout",
     "output_type": "stream",
     "text": [
      "0.250000000000000000000000000000\n",
      "0.500000000000000000000000000000\n",
      "0.750000000000000000000000000000\n",
      "1.000000000000000000000000000000\n"
     ]
    }
   ],
   "source": [
    "x = np.float32(0.0)\n",
    "num_iter = 0\n",
    "while x != 1.0:\n",
    "    x = x + np.float32(0.25)\n",
    "    num_iter += 1\n",
    "    print('%.30f' % x)\n",
    "    if num_iter > 4:\n",
    "        print('error')\n",
    "        break"
   ]
  },
  {
   "cell_type": "code",
   "execution_count": 24,
   "metadata": {},
   "outputs": [
    {
     "name": "stdout",
     "output_type": "stream",
     "text": [
      "0.100000000000000005551115123125782702118158340454101562500000\n",
      "0.100000001490116119384765625000000000000000000000000000000000\n",
      "0.100000000000000005551115123125782702118158340454101562500000\n"
     ]
    }
   ],
   "source": [
    "x = 0.1\n",
    "print('%.60f' % x)\n",
    "x = np.float32(0.1)\n",
    "print('%.60f' % x)\n",
    "x = np.float64(0.1)\n",
    "print('%.60f' % x)"
   ]
  },
  {
   "cell_type": "code",
   "execution_count": 25,
   "metadata": {},
   "outputs": [
    {
     "name": "stdout",
     "output_type": "stream",
     "text": [
      "0.100000001490116119384765625000\n"
     ]
    }
   ],
   "source": [
    "x = np.float32(0.1)\n",
    "print('%.30f' % x)"
   ]
  },
  {
   "cell_type": "code",
   "execution_count": 26,
   "metadata": {},
   "outputs": [
    {
     "name": "stdout",
     "output_type": "stream",
     "text": [
      "binary of x=0.1: 00111101110011001100110011001101\n",
      "          sigma: 0\n",
      "        E=e+127: 01111011\n",
      "    significant: 10011001100110011001101\n"
     ]
    }
   ],
   "source": [
    "# bitstring is a pure Python module designed to help make the creation \n",
    "# and analysis of binary data as simple and natural as possible.\n",
    "# we can install it by the command: pip install bitstring.\n",
    "import bitstring\n",
    "f1 = bitstring.BitArray(float=0.1, length=32)\n",
    "print('binary of x=0.1: %s' % f1.bin)\n",
    "print('          sigma: %s' % f1.bin[0])\n",
    "print('        E=e+127: %s' % f1.bin[1:9])\n",
    "print('    significant: %s' % f1.bin[9:])"
   ]
  }
 ],
 "metadata": {
  "kernelspec": {
   "display_name": "Python 2",
   "language": "python",
   "name": "python2"
  },
  "language_info": {
   "codemirror_mode": {
    "name": "ipython",
    "version": 2
   },
   "file_extension": ".py",
   "mimetype": "text/x-python",
   "name": "python",
   "nbconvert_exporter": "python",
   "pygments_lexer": "ipython2",
   "version": "2.7.15rc1"
  }
 },
 "nbformat": 4,
 "nbformat_minor": 2
}
