{
 "cells": [
  {
   "cell_type": "code",
   "execution_count": 39,
   "metadata": {
    "scrolled": true
   },
   "outputs": [],
   "source": [
    "import warnings\n",
    "warnings.filterwarnings(\"ignore\", category=RuntimeWarning) \n",
    "# NumPy is the fundamental package for scientific computing with Python.\n",
    "# Numpy is as easy as Matlab. It is also as powerful as Matlab.\n",
    "import numpy as np"
   ]
  },
  {
   "cell_type": "code",
   "execution_count": 40,
   "metadata": {},
   "outputs": [
    {
     "data": {
      "text/plain": [
       "(inf, numpy.float64)"
      ]
     },
     "execution_count": 40,
     "metadata": {},
     "output_type": "execute_result"
    }
   ],
   "source": [
    "# to demonstrate that single / double precsion can be \n",
    "x = np.divide(1.0,0.0)\n",
    "x, type(x)"
   ]
  },
  {
   "cell_type": "code",
   "execution_count": 41,
   "metadata": {
    "scrolled": true
   },
   "outputs": [
    {
     "data": {
      "text/plain": [
       "(-inf, numpy.float64)"
      ]
     },
     "execution_count": 41,
     "metadata": {},
     "output_type": "execute_result"
    }
   ],
   "source": [
    "x = np.divide(-1.0,0.0)\n",
    "x, type(x)"
   ]
  },
  {
   "cell_type": "code",
   "execution_count": 42,
   "metadata": {},
   "outputs": [
    {
     "data": {
      "text/plain": [
       "(nan, numpy.float64)"
      ]
     },
     "execution_count": 42,
     "metadata": {},
     "output_type": "execute_result"
    }
   ],
   "source": [
    "x = np.divide(0.0,0.0)\n",
    "x, type(x)"
   ]
  },
  {
   "cell_type": "code",
   "execution_count": 43,
   "metadata": {},
   "outputs": [
    {
     "data": {
      "text/plain": [
       "(inf, numpy.float32)"
      ]
     },
     "execution_count": 43,
     "metadata": {},
     "output_type": "execute_result"
    }
   ],
   "source": [
    "a = np.float32(1.0)\n",
    "b = np.float32(0.0)\n",
    "x = np.divide(a,b)\n",
    "x, type(x)"
   ]
  },
  {
   "cell_type": "code",
   "execution_count": 44,
   "metadata": {},
   "outputs": [
    {
     "data": {
      "text/plain": [
       "(inf, numpy.float64)"
      ]
     },
     "execution_count": 44,
     "metadata": {},
     "output_type": "execute_result"
    }
   ],
   "source": [
    "a = np.float64(1.0)\n",
    "b = np.float64(0.0)\n",
    "x = np.divide(a,b)\n",
    "x, type(x)"
   ]
  },
  {
   "cell_type": "code",
   "execution_count": 45,
   "metadata": {},
   "outputs": [
    {
     "data": {
      "text/plain": [
       "(1.1920928955078125e-07, 1.1920929e-07)"
      ]
     },
     "execution_count": 45,
     "metadata": {},
     "output_type": "execute_result"
    }
   ],
   "source": [
    "# machine epsilon: the machine epsilon for any particular floating-point \n",
    "# format is the difference between 1 and the next larger number that \n",
    "# can be stored in that format. \n",
    "# IEEE single precision has precision 24, so the difference is\n",
    "# 1.00000000000000000000001 - 1.00000000000000000000000 = 2^{-23}\n",
    "x = 2 ** (-23)\n",
    "x, np.finfo(np.float32).eps"
   ]
  },
  {
   "cell_type": "code",
   "execution_count": 46,
   "metadata": {},
   "outputs": [
    {
     "data": {
      "text/plain": [
       "(2.220446049250313e-16, 2.220446049250313e-16)"
      ]
     },
     "execution_count": 46,
     "metadata": {},
     "output_type": "execute_result"
    }
   ],
   "source": [
    "# IEEE double precision has precision 53, so the difference is\n",
    "# 1.000...0001 - 1.000...000 = 2^{-52}\n",
    "x = 2 ** (-52)\n",
    "x, np.finfo(np.float64).eps"
   ]
  },
  {
   "cell_type": "code",
   "execution_count": 51,
   "metadata": {},
   "outputs": [
    {
     "data": {
      "text/plain": [
       "('0.10000000149011611938477', 1.0000005960466209e-40, 1.0000007450583317e-50)"
      ]
     },
     "execution_count": 51,
     "metadata": {},
     "output_type": "execute_result"
    }
   ],
   "source": [
    "# we cannot exactly convert a decimal number x=0.1 into a machine number. \n",
    "# x= (0.1)_{10} \\approx 0.000\\overline{1100}\n",
    "x = np.float32(0.1)\n",
    "y = x ** 40\n",
    "z = x ** 50\n",
    "'%.23f' % x, y, z"
   ]
  },
  {
   "cell_type": "code",
   "execution_count": 52,
   "metadata": {},
   "outputs": [
    {
     "data": {
      "text/plain": [
       "('0.10000000000000000555112', 1.0000000000000022e-40, 1.0000000000000027e-50)"
      ]
     },
     "execution_count": 52,
     "metadata": {},
     "output_type": "execute_result"
    }
   ],
   "source": [
    "x = np.float64(0.1)\n",
    "y = x ** 40\n",
    "z = x ** 50\n",
    "'%.23f' % x, y, z"
   ]
  }
 ],
 "metadata": {
  "kernelspec": {
   "display_name": "Python 2",
   "language": "python",
   "name": "python2"
  },
  "language_info": {
   "codemirror_mode": {
    "name": "ipython",
    "version": 2
   },
   "file_extension": ".py",
   "mimetype": "text/x-python",
   "name": "python",
   "nbconvert_exporter": "python",
   "pygments_lexer": "ipython2",
   "version": "2.7.15rc1"
  }
 },
 "nbformat": 4,
 "nbformat_minor": 2
}
