{
 "cells": [
  {
   "cell_type": "code",
   "execution_count": 12,
   "metadata": {},
   "outputs": [],
   "source": [
    "from IPython.display import Markdown, display\n",
    "def printmd(string):\n",
    "    display(Markdown(string))"
   ]
  },
  {
   "cell_type": "code",
   "execution_count": 13,
   "metadata": {},
   "outputs": [
    {
     "name": "stdout",
     "output_type": "stream",
     "text": [
      "        true value: 3.1415926536\n",
      "approximated value: 3.1428571429\n",
      "     absolut error: -0.0012644893\n",
      "    relative error: -0.0004024994\n"
     ]
    }
   ],
   "source": [
    "# In this section, we introduce two errors, namely, absolute error and relative error.\n",
    "# absolute error is defined as: absolute error = true value - approximate value = x_T - x_A\n",
    "# the relative error is defined as: relative error = error / true value = (x_T - x_A) / x_T\n",
    "import numpy as np\n",
    "x_T = np.pi\n",
    "x_A = 22. / 7.\n",
    "abs_err = x_T - x_A\n",
    "rel_err = abs_err / x_T\n",
    "print('        true value: %.10f' % x_T)\n",
    "print('approximated value: %.10f' % x_A)\n",
    "print('     absolut error: %.10f' % abs_err)\n",
    "print('    relative error: %.10f' % rel_err)"
   ]
  },
  {
   "cell_type": "code",
   "execution_count": 14,
   "metadata": {},
   "outputs": [
    {
     "name": "stdout",
     "output_type": "stream",
     "text": [
      "----------------------------------------\n",
      "        true value: 152.0000000000\n",
      "approximated value: 151.0000000000\n",
      "     absolut error: 1.0000000000\n",
      "    relative error: 0.0065789474\n",
      "----------------------------------------\n",
      "        true value: 2.0000000000\n",
      "approximated value: 1.0000000000\n",
      "     absolut error: 1.0000000000\n",
      "    relative error: 0.5000000000\n"
     ]
    }
   ],
   "source": [
    "# relative error vs absolute error, which one is better ? Try the following two examples:\n",
    "# Example 1\n",
    "# Suppose the exact distance between NYC and Albany is x_T = 152miles, and the Google maps gives me\n",
    "# an estimated distance x_A=151miles. \n",
    "x_T = 152.0 # miles\n",
    "x_A = 151.0 # miles\n",
    "abs_err = x_T - x_A\n",
    "rel_err = abs_err / x_T\n",
    "print('-'*40)\n",
    "print('        true value: %.10f' % x_T)\n",
    "print('approximated value: %.10f' % x_A)\n",
    "print('     absolut error: %.10f' % abs_err)\n",
    "print('    relative error: %.10f' % rel_err)\n",
    "# Example 2\n",
    "# Suppose the exact distance between UAlbany to Crossgates is x_T = 2miles, and the Google maps gives me\n",
    "# an estimated distance x_A = 1miles. Then two errors are:\n",
    "x_T = 2.0 # miles\n",
    "x_A = 1.0 # miles\n",
    "abs_err = x_T - x_A\n",
    "rel_err = abs_err / x_T\n",
    "print('-'*40)\n",
    "print('        true value: %.10f' % x_T)\n",
    "print('approximated value: %.10f' % x_A)\n",
    "print('     absolut error: %.10f' % abs_err)\n",
    "print('    relative error: %.10f' % rel_err)\n",
    "\n",
    "# We can see that the estimation of first example is much better than the second one, \n",
    "# in this case, the relative error is more accurate."
   ]
  },
  {
   "cell_type": "code",
   "execution_count": 15,
   "metadata": {},
   "outputs": [
    {
     "data": {
      "text/markdown": [
       "**bold text**"
      ],
      "text/plain": [
       "<IPython.core.display.Markdown object>"
      ]
     },
     "metadata": {},
     "output_type": "display_data"
    }
   ],
   "source": [
    "# Significant digits\n",
    "printmd(\"**bold text**\")"
   ]
  },
  {
   "cell_type": "code",
   "execution_count": null,
   "metadata": {},
   "outputs": [],
   "source": [
    "# "
   ]
  }
 ],
 "metadata": {
  "kernelspec": {
   "display_name": "Python 2",
   "language": "python",
   "name": "python2"
  },
  "language_info": {
   "codemirror_mode": {
    "name": "ipython",
    "version": 2
   },
   "file_extension": ".py",
   "mimetype": "text/x-python",
   "name": "python",
   "nbconvert_exporter": "python",
   "pygments_lexer": "ipython2",
   "version": "2.7.15rc1"
  }
 },
 "nbformat": 4,
 "nbformat_minor": 2
}
