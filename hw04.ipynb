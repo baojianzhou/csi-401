{
 "cells": [
  {
   "cell_type": "code",
   "execution_count": 28,
   "metadata": {},
   "outputs": [
    {
     "name": "stdout",
     "output_type": "stream",
     "text": [
      "the solution of the original system Ax=b is: x0: 1.00000 x1: 1.00000\n"
     ]
    }
   ],
   "source": [
    "import numpy as np\n",
    "# --------------------------------------------------------------------------------------\n",
    "# ------------------------------------------ Q1 ----------------------------------------\n",
    "# calculate the solution of the linear system Ax=b\n",
    "a = np.asarray([[1,2],[1.0001, 2]])\n",
    "b = [3, 3.0001]\n",
    "x = np.linalg.solve(a,b)\n",
    "print('the solution of the original system Ax=b is: x0: %.5f x1: %.5f' % (x[0],x[1]))"
   ]
  },
  {
   "cell_type": "code",
   "execution_count": 29,
   "metadata": {},
   "outputs": [
    {
     "name": "stdout",
     "output_type": "stream",
     "text": [
      "the solution of the perturbed system \\hat{A}x=b is: x0: -1.00000 x1: 2.00000\n"
     ]
    }
   ],
   "source": [
    "# calculate the solution of \\hat{A}x=b\n",
    "a_perturb = np.asarray([[1,2],[0.9999, 2]])\n",
    "x_perturb = np.linalg.solve(a_perturb,b)\n",
    "print('the solution of the perturbed system \\hat{A}x=b is: x0: %.5f x1: %.5f'\n",
    "      % (x_perturb[0],x_perturb[1]))"
   ]
  },
  {
   "cell_type": "code",
   "execution_count": 30,
   "metadata": {},
   "outputs": [
    {
     "name": "stdout",
     "output_type": "stream",
     "text": [
      "45003.00005000495\n"
     ]
    }
   ],
   "source": [
    "# caluclate the condition number of A by using \n",
    "# the definition shown in 6.91.\n",
    "def norm_a(a):\n",
    "    re_norm = 0.0\n",
    "    for i in range(len(a)):\n",
    "        re_norm += np.max(a[:,i])\n",
    "    return re_norm\n",
    "def inverse_a(mat):\n",
    "    a,b,c,d = mat[0,0],mat[0,1],mat[1,0],mat[1,1]\n",
    "    return 1./(a*d-b*c) * np.asarray([[d,-b],[-c, a]])\n",
    "a = np.asarray([[1,2],[1.0001, 2]])\n",
    "print(norm_a(a) * norm_a(inverse_a(a)))"
   ]
  },
  {
   "cell_type": "code",
   "execution_count": 31,
   "metadata": {},
   "outputs": [
    {
     "name": "stdout",
     "output_type": "stream",
     "text": [
      "45001.99997764416\n"
     ]
    }
   ],
   "source": [
    "# caluclate the condition number of A by using \n",
    "# its maximal eigenvalue and minimal eigenvalue.\n",
    "w,_ = np.linalg.eig(a) # get eigenvalues.\n",
    "sigma_0 = np.max(np.abs(w)) # maximal eigenvalues.\n",
    "sigma_1 = np.min(np.abs(w)) # minimal eigenvalues.\n",
    "cond_number = np.abs(sigma_0/sigma_1)\n",
    "print(cond_number)"
   ]
  },
  {
   "cell_type": "code",
   "execution_count": 32,
   "metadata": {},
   "outputs": [
    {
     "name": "stdout",
     "output_type": "stream",
     "text": [
      "(-194.138240732094, 72.08451769539631)\n",
      "rooted mean squared error: 18.1387\n"
     ]
    },
    {
     "data": {
      "text/plain": [
       "<matplotlib.legend.Legend at 0x7f265ee39650>"
      ]
     },
     "execution_count": 32,
     "metadata": {},
     "output_type": "execute_result"
    },
    {
     "data": {
      "image/png": "[encoded data removed]",
      "text/plain": [
       "<Figure size 432x288 with 1 Axes>"
      ]
     },
     "metadata": {
      "needs_background": "light"
     },
     "output_type": "display_data"
    }
   ],
   "source": [
    "\n",
    "# --------------------------------------------------------------------------------------\n",
    "# ------------------------------------------ Q2 ----------------------------------------\n",
    "\n",
    "x = np.asarray([4.00, 4.20, 4.50, 4.70, 5.10, 5.50, 5.90, 6.30, 6.80, 7.10])\n",
    "y = np.asarray([102.56, 113.18, 130.11, 142.05, 167.53, 195.14, 224.87, 256.73, 299.50, 326.72])\n",
    "def rooted_mean_square_error(y,y_hat):\n",
    "    re = np.mean(np.sum((y - y_hat) ** 2.0))\n",
    "    return np.sqrt(re)\n",
    "\n",
    "\n",
    "# Construct the least squares approximation of degree 1 and compute the error\n",
    "# y_hat = a1 + a2 x\n",
    "x_bar = np.mean(x)\n",
    "y_bar = np.mean(y)\n",
    "xy_bar = np.mean(x*y)\n",
    "x_square_bar = np.mean(x*x)\n",
    "w2 = (x_bar * y_bar - xy_bar) / (x_bar ** 2. - x_square_bar)\n",
    "w1 = y_bar - w2 * x_bar\n",
    "print(w1,w2)\n",
    "y_hat = []\n",
    "for x_i in x:\n",
    "    y_hat.append(w1 + w2*x_i)\n",
    "error = rooted_mean_square_error(y,y_hat)\n",
    "print('rooted mean squared error: %.4f' % error)\n",
    "\n",
    "import matplotlib.pyplot as plt\n",
    "plt.plot(x,y,marker='D',color='b',label='samples')\n",
    "plt.plot(x,y_hat,marker='s',color='r',label='fitted')\n",
    "plt.legend()"
   ]
  },
  {
   "cell_type": "code",
   "execution_count": 33,
   "metadata": {},
   "outputs": [
    {
     "name": "stdout",
     "output_type": "stream",
     "text": [
      "rooted mean squared error: 0.0380\n"
     ]
    },
    {
     "data": {
      "text/plain": [
       "<matplotlib.legend.Legend at 0x7f265e6b6b50>"
      ]
     },
     "execution_count": 33,
     "metadata": {},
     "output_type": "execute_result"
    },
    {
     "data": {
      "image/png": "[encoded data removed]",
      "text/plain": [
       "<Figure size 432x288 with 1 Axes>"
      ]
     },
     "metadata": {
      "needs_background": "light"
     },
     "output_type": "display_data"
    }
   ],
   "source": [
    "# Construct the least squares approximation of degree 2 and compute the error\n",
    "# y_hat = a1 + a2 x + a3 x^2\n",
    "x = np.asarray([4.00, 4.20, 4.50, 4.70, 5.10, 5.50, 5.90, 6.30, 6.80, 7.10])\n",
    "y = np.asarray([102.56, 113.18, 130.11, 142.05, 167.53, 195.14, 224.87, 256.73, 299.50, 326.72])\n",
    "x_bar_1 = np.mean(x)\n",
    "x_bar_2 = np.mean(x*x)\n",
    "x_bar_3 = np.mean(x*x*x)\n",
    "x_bar_4 = np.mean((x*x)*(x*x))\n",
    "y_bar_1 = np.mean(y)\n",
    "xy_bar = np.mean(x*y)\n",
    "x2y_bar = np.mean(x*x*y)\n",
    "a = np.asarray([[1,x_bar_1,x_bar_2],[x_bar_1,x_bar_2,x_bar_3],[x_bar_2,x_bar_3,x_bar_4]])\n",
    "b = np.asarray([y_bar_1,xy_bar,x2y_bar])\n",
    "w = np.linalg.solve(a,b)\n",
    "y_hat = [w[0]+w[1]*_ + w[2]*_**2. for _ in x]\n",
    "error = rooted_mean_square_error(y,y_hat)\n",
    "print('rooted mean squared error: %.4f' % error)\n",
    "\n",
    "import matplotlib.pyplot as plt\n",
    "plt.plot(x,y,marker='D',color='b',label='samples',linewidth=4.,markersize=10)\n",
    "plt.plot(x,y_hat,marker='s',color='r',label='fitted',linewidth=2.,markersize=5)\n",
    "plt.legend()"
   ]
  },
  {
   "cell_type": "code",
   "execution_count": 37,
   "metadata": {},
   "outputs": [
    {
     "name": "stdout",
     "output_type": "stream",
     "text": [
      "[[ 4  1  1  0  0]\n",
      " [-1 -3  1  1  0]\n",
      " [ 2  1  5 -1 -1]\n",
      " [-1 -1 -1  4  0]\n",
      " [ 0  2 -1  1  4]]\n",
      "[ 6  6 -6  6  6]\n",
      "[ 2.4063745  -2.70916335 -0.91633466  1.19521912  2.32669323]\n"
     ]
    }
   ],
   "source": [
    "\n",
    "\n",
    "# --------------------------------------------------------------------------------------\n",
    "# ------------------------------------------ Q3 ----------------------------------------\n",
    "\n",
    "\n",
    "a = np.asarray([[4,1,1,0,0],[-1,-3,1,1,0],[2,1,5,-1,-1],[-1,-1,-1,4,0],[0,2,-1,1,4]])\n",
    "b = np.asarray([6,6,-6,6,6])\n",
    "x = np.linalg.solve(a,b)\n",
    "print(a)\n",
    "print(b)\n",
    "print(x)"
   ]
  },
  {
   "cell_type": "code",
   "execution_count": 38,
   "metadata": {},
   "outputs": [
    {
     "name": "stdout",
     "output_type": "stream",
     "text": [
      "i        x1          x2            x3         x4          x5         error       ratio\n",
      "00 0.000000000 0.000000000 0.000000000 0.000000000 0.000000000 9.063745020e-01 0.000000000\n",
      "01 2.300000000 -2.666666667 -0.986666667 1.161666667 2.296250000 1.063745020e-01 0.117362637\n",
      "02 2.413333333 -2.746111111 -0.924527778 1.185673611 2.345505208 3.694776450e-02 0.347336663\n",
      "03 2.417659722 -2.718837963 -0.917060532 1.195440307 2.331293772 1.128522023e-02 0.305437159\n",
      "04 2.408974624 -2.710198283 -0.916203377 1.195643241 2.327137487 2.600121851e-03 0.230400630\n",
      "05 2.406600415 -2.709053517 -0.916273317 1.195318395 2.326628831 2.259131073e-04 0.086885585\n",
      "06 2.406331709 -2.709095543 -0.916324130 1.195228009 2.326659737 6.780316824e-05 0.300129413\n",
      "07 2.406354918 -2.709150346 -0.916334349 1.195217556 2.326687197 1.958373577e-05 0.288832163\n",
      "08 2.406371174 -2.709162656 -0.916334988 1.195218383 2.326692985 3.328202024e-06 0.169947249\n",
      "09 2.406374411 -2.709163672 -0.916334756 1.195218996 2.326693398 3.254252641e-07 0.097778098\n",
      "10 2.406374607 -2.709163456 -0.916334673 1.195219120 2.326693280 1.093443331e-07 0.336004439\n",
      "11 2.406374532 -2.709163362 -0.916334661 1.195219127 2.326693234 3.022837758e-08 0.276451250\n",
      "12 2.406374506 -2.709163346 -0.916334661 1.195219125 2.326693227 3.631827283e-09 0.120146286\n",
      "13 2.406374502 -2.709163346 -0.916334661 1.195219124 2.326693227 6.737574942e-10 0.185514740\n",
      "14 2.406374502 -2.709163346 -0.916334661 1.195219123 2.326693227 2.014757250e-10 0.299033000\n",
      "15 2.406374502 -2.709163347 -0.916334661 1.195219123 2.326693227 4.188294156e-11 0.207880833\n",
      "16 2.406374502 -2.709163347 -0.916334661 1.195219124 2.326693227 2.879918526e-12 0.068761133\n",
      "17 2.406374502 -2.709163347 -0.916334661 1.195219124 2.326693227 1.178168674e-12 0.409097918\n",
      "18 2.406374502 -2.709163347 -0.916334661 1.195219124 2.326693227 3.348432642e-13 0.284206559\n",
      "19 2.406374502 -2.709163347 -0.916334661 1.195219124 2.326693227 5.107025913e-14 0.152519894\n",
      "20 2.406374502 -2.709163347 -0.916334661 1.195219124 2.326693227 6.661338148e-15 0.130434783\n",
      "21 2.406374502 -2.709163347 -0.916334661 1.195219124 2.326693227 2.220446049e-15 0.333333333\n",
      "22 2.406374502 -2.709163347 -0.916334661 1.195219124 2.326693227 8.881784197e-16 0.400000000\n",
      "23 2.406374502 -2.709163347 -0.916334661 1.195219124 2.326693227 8.881784197e-16 1.000000000\n",
      "24 2.406374502 -2.709163347 -0.916334661 1.195219124 2.326693227 8.881784197e-16 1.000000000\n"
     ]
    }
   ],
   "source": [
    "def jacobi_iterative_method(a,b,tol=1e-3,max_iter=25):\n",
    "    x_true = np.linalg.solve(a,b)\n",
    "    x = np.zeros(5) # initial guess.\n",
    "    x_next = np.zeros_like(x)\n",
    "    error_pre = np.inf  \n",
    "    print('i        x1          x2            x3         x4          x5         error       ratio')\n",
    "    for i in range(max_iter):\n",
    "        x_next[0] = 1./4.  * (b[0] - 1.*x[1] - 1.*x[2] + 0.*x[3] + 0.*x[4])\n",
    "        x_next[1] = 1./-3. * (b[1] + 1.*x[0] - 1.*x[2] - 1.*x[3] + 0.*x[4])\n",
    "        x_next[2] = 1./5.  * (b[2] - 2.*x[0] - 1.*x[1] + 1.*x[3] + 1.*x[4])\n",
    "        x_next[3] = 1./4.  * (b[3] + 1.*x[0] + 1.*x[1] + 1.*x[2] + 0.*x[4])\n",
    "        x_next[4] = 1./4.  * (b[4] - 0.*x[0] - 2.*x[1] + 1.*x[2] - 1.*x[3])\n",
    "        error = np.max(np.abs(x_next-x_true))\n",
    "        ratio = error / error_pre\n",
    "        print('%02d %.9f %.9f %.9f %.9f %.9f %.9e %.9f' %(i,x[0],x[1],x[2],x[3],x[4],error,ratio))\n",
    "        x = x_next\n",
    "        error_pre = error\n",
    "jacobi_iterative_method(a,b)"
   ]
  },
  {
   "cell_type": "code",
   "execution_count": null,
   "metadata": {},
   "outputs": [],
   "source": []
  }
 ],
 "metadata": {
  "kernelspec": {
   "display_name": "Python 2",
   "language": "python",
   "name": "python2"
  },
  "language_info": {
   "codemirror_mode": {
    "name": "ipython",
    "version": 2
   },
   "file_extension": ".py",
   "mimetype": "text/x-python",
   "name": "python",
   "nbconvert_exporter": "python",
   "pygments_lexer": "ipython2",
   "version": "2.7.15rc1"
  }
 },
 "nbformat": 4,
 "nbformat_minor": 2
}
