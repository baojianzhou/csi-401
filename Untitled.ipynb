{
 "cells": [
  {
   "cell_type": "code",
   "execution_count": 8,
   "metadata": {},
   "outputs": [
    {
     "data": {
      "text/plain": [
       "array([[  2.    ,   1.    ,  -1.    ,  -2.    ],\n",
       "       [  4.    ,   4.    ,   1.    ,   3.    ],\n",
       "       [ -6.    ,  -1.    ,  15.    ,   6.25  ],\n",
       "       [  2.    ,   1.    ,  19.25  , -30.6875]])"
      ]
     },
     "execution_count": 8,
     "metadata": {},
     "output_type": "execute_result"
    }
   ],
   "source": [
    "import numpy as np\n",
    "\n",
    "A = np.asarray([[2,1,-1,-2],[4,4,1,3],[-6,-1,10,10],[-2,1,8,4]])\n",
    "U = np.asarray([[2,1,-1,-2],[0,2,3,7],[0,0,9, -27/4.],[0,0,0,-54/4.]])\n",
    "L = np.asarray([[1,0,0,0],[2,1,0,0],[-3,1,1.,0],[1,0,9./4.,1]])\n",
    "np.dot(L,U)"
   ]
  },
  {
   "cell_type": "code",
   "execution_count": null,
   "metadata": {},
   "outputs": [],
   "source": []
  },
  {
   "cell_type": "code",
   "execution_count": null,
   "metadata": {},
   "outputs": [],
   "source": []
  }
 ],
 "metadata": {
  "kernelspec": {
   "display_name": "Python 2",
   "language": "python",
   "name": "python2"
  },
  "language_info": {
   "codemirror_mode": {
    "name": "ipython",
    "version": 2
   },
   "file_extension": ".py",
   "mimetype": "text/x-python",
   "name": "python",
   "nbconvert_exporter": "python",
   "pygments_lexer": "ipython2",
   "version": "2.7.15rc1"
  }
 },
 "nbformat": 4,
 "nbformat_minor": 2
}
