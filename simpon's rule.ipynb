{
 "cells": [
  {
   "cell_type": "code",
   "execution_count": 14,
   "metadata": {},
   "outputs": [
    {
     "name": "stdout",
     "output_type": "stream",
     "text": [
      "         s_n_f            error            ratio\n",
      "0.2845177968644246 0.0011964888498611 0.0000000000\n",
      "0.2855925457590217 0.0001217399552640 9.8282346767\n",
      "0.2857024874830751 0.0000117982312106 10.3184920766\n",
      "0.2857131773046688 0.0000011084096169 10.6442880240\n",
      "0.2857141836329662 0.0000001020813195 10.8581043251\n",
      "0.2857142764343719 0.0000000092799138 11.0002443889\n",
      "0.2857142848779768 0.0000000008363089 11.0962758804\n",
      "0.2857142856393611 0.0000000000749246 11.1620112601\n"
     ]
    }
   ],
   "source": [
    "def f(x):\n",
    "    return x ** 2.5\n",
    "\n",
    "def simpson(a,b,n):\n",
    "    h = (b-a)/n\n",
    "    x = [a+j*h for j in range(n+1)]\n",
    "    I = 0.0\n",
    "    for i in range(0,n,2):\n",
    "        I += f(x[i]) + 4. * f(x[i+1]) + f(x[i+2])\n",
    "    return (h/3.)*I\n",
    "a = 0.0\n",
    "b = 1.0\n",
    "n_list = [2,4,8,16,32,64,128,256]\n",
    "pre_error = 0.0\n",
    "print('%14s %16s %16s' % ('s_n_f','error','ratio'))\n",
    "for n in n_list:\n",
    "    s_n_f = simpson(a,b,n)\n",
    "    error = abs(s_n_f - 2./7.0)\n",
    "    ratio = pre_error / error\n",
    "    print('%.16f %.16f %.10f' % (s_n_f,error,ratio))\n",
    "    pre_error = error\n",
    "    "
   ]
  },
  {
   "cell_type": "code",
   "execution_count": null,
   "metadata": {},
   "outputs": [],
   "source": []
  }
 ],
 "metadata": {
  "kernelspec": {
   "display_name": "Python 2",
   "language": "python",
   "name": "python2"
  },
  "language_info": {
   "codemirror_mode": {
    "name": "ipython",
    "version": 2
   },
   "file_extension": ".py",
   "mimetype": "text/x-python",
   "name": "python",
   "nbconvert_exporter": "python",
   "pygments_lexer": "ipython2",
   "version": "2.7.15rc1"
  }
 },
 "nbformat": 4,
 "nbformat_minor": 2
}
