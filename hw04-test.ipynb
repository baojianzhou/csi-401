{
 "cells": [
  {
   "cell_type": "code",
   "execution_count": 7,
   "metadata": {},
   "outputs": [
    {
     "name": "stdout",
     "output_type": "stream",
     "text": [
      "10.00\t54.10\t303.39\t\t1958.39\n",
      "54.10\t303.39\t1759.83\t\t11366.84\n",
      "303.39\t1759.83\t10523.12\t68006.68\n"
     ]
    },
    {
     "data": {
      "text/plain": [
       "array([ 1.23556037, -1.14352337,  6.61821092])"
      ]
     },
     "execution_count": 7,
     "metadata": {},
     "output_type": "execute_result"
    }
   ],
   "source": [
    "import numpy as np\n",
    "\n",
    "x = np.asarray([4.00, 4.20, 4.50, 4.70, 5.10,\n",
    "                5.50, 5.90, 6.30, 6.80, 7.10])\n",
    "\n",
    "y = np.asarray([102.56, 113.18, 130.11, 142.05, 167.53, \n",
    "                195.14, 224.87, 256.73, 299.50, 326.72])\n",
    "\n",
    "x_bar_1 = np.mean(x)\n",
    "x_bar_2 = np.mean(x*x)\n",
    "x_bar_3 = np.mean(x*x*x)\n",
    "x_bar_4 = np.mean((x*x)*(x*x))\n",
    "y_bar_1 = np.mean(y)\n",
    "xy_bar = np.mean(x*y)\n",
    "x2y_bar = np.mean(x*x*y)\n",
    "\n",
    "a = np.asarray([[10.      , np.sum(x), np.sum(x*x)],\n",
    "                [np.sum(x), np.sum(x*x), np.sum(x*x*x)],\n",
    "                [np.sum(x*x), np.sum(x*x*x), np.sum(x*x*x*x)]])\n",
    "b = np.asarray( [np.sum(y),   np.sum(x*y), np.sum(x*x*y)])\n",
    "print('%.2f\\t%.2f\\t%.2f\\t\\t%.2f' %(a[0][0],a[0][1],a[0][2],b[0]))\n",
    "print('%.2f\\t%.2f\\t%.2f\\t\\t%.2f' %(a[1][0],a[1][1],a[1][2],b[1]))\n",
    "print('%.2f\\t%.2f\\t%.2f\\t%.2f' %(a[2][0],a[2][1],a[2][2],b[2]))\n",
    "np.linalg.solve(a,b)"
   ]
  },
  {
   "cell_type": "code",
   "execution_count": 24,
   "metadata": {},
   "outputs": [
    {
     "name": "stdout",
     "output_type": "stream",
     "text": [
      "[[ 10.000  54.100  303.390  1958.400]\n",
      " [ 0.000  10.709  118.460  772.056]\n",
      " [ 0.000  118.460  1318.451  8591.102]]\n",
      "[[ 10.000  54.100  303.390  1958.400]\n",
      " [ 0.000  10.709  118.460  772.056]\n",
      " [ 0.000  0.000  8.078  50.832]]\n",
      "[-8.719  2.729  6.256]\n",
      "0.4424955367006391\n"
     ]
    }
   ],
   "source": [
    "ext_mat= np.asarray([[10.0,  54.1,  303.39,  1958.40],\n",
    "               [54.1,  303.39,1759.8,  11367.0],\n",
    "               [303.39,1759.8,10523.0, 68007.]])\n",
    "ext_mat[1] = ext_mat[1] - ext_mat[0]*5.41\n",
    "ext_mat[2] = ext_mat[2] - ext_mat[0]*30.339\n",
    "print(ext_mat)\n",
    "ext_mat[2] = ext_mat[2] - ext_mat[1]*(118.46/10.709)\n",
    "np.set_printoptions(formatter={'float': '{: 0.3f}'.format})\n",
    "print(ext_mat)\n",
    "a = np.asarray([[10., 54.1, 303.39],\n",
    "                [0.0, 10.209, 118.9601],\n",
    "                [0.0, 0.0, 8.124 ]])\n",
    "b = np.asarray( [1958.4, 772.056, 50.8226])\n",
    "print(np.linalg.solve(a,b))\n",
    "\n",
    "x = np.asarray([4.00, 4.20, 4.50, 4.70, 5.10,\n",
    "                5.50, 5.90, 6.30, 6.80, 7.10])\n",
    "\n",
    "y = np.asarray([102.56, 113.18, 130.11, 142.05, 167.53, \n",
    "                195.14, 224.87, 256.73, 299.50, 326.72])\n",
    "\n",
    "def lx(x):\n",
    "    return -8.5 + 2.5*x + 6.3 * x ** 2.\n",
    "\n",
    "print(np.sqrt(np.mean((lx(x)-y)**2.)))"
   ]
  },
  {
   "cell_type": "code",
   "execution_count": null,
   "metadata": {},
   "outputs": [],
   "source": []
  }
 ],
 "metadata": {
  "kernelspec": {
   "display_name": "Python 2",
   "language": "python",
   "name": "python2"
  },
  "language_info": {
   "codemirror_mode": {
    "name": "ipython",
    "version": 2
   },
   "file_extension": ".py",
   "mimetype": "text/x-python",
   "name": "python",
   "nbconvert_exporter": "python",
   "pygments_lexer": "ipython2",
   "version": "2.7.15rc1"
  }
 },
 "nbformat": 4,
 "nbformat_minor": 2
}
