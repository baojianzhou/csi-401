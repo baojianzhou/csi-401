{
 "cells": [
  {
   "cell_type": "code",
   "execution_count": 29,
   "metadata": {},
   "outputs": [
    {
     "name": "stdout",
     "output_type": "stream",
     "text": [
      "the solution of the original system Ax=b is: x0: 1.00000 x1: 1.00000\n"
     ]
    }
   ],
   "source": [
    "import numpy as np\n",
    "# -------------------------------------------------------------------------------------- Q1\n",
    "# calculate the solution of the linear system Ax=b\n",
    "a = np.asarray([[1,2],[1.0001, 2]])\n",
    "b = [3, 3.0001]\n",
    "x = np.linalg.solve(a,b)\n",
    "print('the solution of the original system Ax=b is: x0: %.5f x1: %.5f' % (x[0],x[1]))"
   ]
  },
  {
   "cell_type": "code",
   "execution_count": 30,
   "metadata": {},
   "outputs": [
    {
     "name": "stdout",
     "output_type": "stream",
     "text": [
      "the solution of the perturbed system \\hat{A}x=b is: x0: -1.00000 x1: 2.00000\n"
     ]
    }
   ],
   "source": [
    "# calculate the solution of \\hat{A}x=b\n",
    "a_perturb = np.asarray([[1,2],[0.9999, 2]])\n",
    "x_perturb = np.linalg.solve(a_perturb,b)\n",
    "print('the solution of the perturbed system \\hat{A}x=b is: x0: %.5f x1: %.5f'\n",
    "      % (x_perturb[0],x_perturb[1]))"
   ]
  },
  {
   "cell_type": "code",
   "execution_count": 38,
   "metadata": {},
   "outputs": [
    {
     "name": "stdout",
     "output_type": "stream",
     "text": [
      "45003.00005000495\n"
     ]
    }
   ],
   "source": [
    "# caluclate the condition number of A by using \n",
    "# the definition shown in 6.91.\n",
    "def norm_a(a):\n",
    "    re_norm = 0.0\n",
    "    for i in range(len(a)):\n",
    "        re_norm += np.max(a[:,i])\n",
    "    return re_norm\n",
    "def inverse_a(mat):\n",
    "    a,b,c,d = mat[0,0],mat[0,1],mat[1,0],mat[1,1]\n",
    "    return 1./(a*d-b*c) * np.asarray([[d,-b],[-c, a]])\n",
    "a = np.asarray([[1,2],[1.0001, 2]])\n",
    "print(norm_a(a) * norm_a(inverse_a(a)))"
   ]
  },
  {
   "cell_type": "code",
   "execution_count": 40,
   "metadata": {},
   "outputs": [
    {
     "name": "stdout",
     "output_type": "stream",
     "text": [
      "45001.99997764416\n"
     ]
    }
   ],
   "source": [
    "# caluclate the condition number of A by using \n",
    "# its maximal eigenvalue and minimal eigenvalue.\n",
    "w,_ = np.linalg.eig(a) # get eigenvalues.\n",
    "sigma_0 = np.max(np.abs(w)) # maximal eigenvalues.\n",
    "sigma_1 = np.min(np.abs(w)) # minimal eigenvalues.\n",
    "cond_number = np.abs(sigma_0/sigma_1)\n",
    "print(cond_number)"
   ]
  },
  {
   "cell_type": "code",
   "execution_count": 41,
   "metadata": {},
   "outputs": [],
   "source": [
    "# -------------------------------------------------------------------------------------- Q2"
   ]
  },
  {
   "cell_type": "code",
   "execution_count": 44,
   "metadata": {},
   "outputs": [
    {
     "name": "stdout",
     "output_type": "stream",
     "text": [
      "[[ 4  1  1  0  0]\n",
      " [-1 -3  1  1  0]\n",
      " [ 2  1  5 -1 -1]\n",
      " [-1 -1 -1  4  0]\n",
      " [ 0  2 -1  1  4]]\n"
     ]
    }
   ],
   "source": [
    "# -------------------------------------------------------------------------------------- Q3\n",
    "a = np.asarray([[4,1,1,0,0],[-1,-3,1,1,0],[2,1,5,-1,-1],[-1,-1,-1,4,0],[0,2,-1,1,4]])\n",
    "print(a)"
   ]
  },
  {
   "cell_type": "code",
   "execution_count": 61,
   "metadata": {},
   "outputs": [
    {
     "name": "stdout",
     "output_type": "stream",
     "text": [
      "[ 6  6 -6  6  6]\n",
      "[ 2.4063745  -2.70916335 -0.91633466  1.19521912  2.32669323]\n"
     ]
    }
   ],
   "source": [
    "b = np.asarray([6,6,-6,6,6])\n",
    "print(b)\n",
    "x = np.linalg.solve(a,b)\n",
    "print(x)"
   ]
  },
  {
   "cell_type": "code",
   "execution_count": 68,
   "metadata": {},
   "outputs": [
    {
     "name": "stdout",
     "output_type": "stream",
     "text": [
      "i        x1           x2           x3            x4            x5           error       ratio\n",
      "00 0.0000000000 0.0000000000 0.0000000000 0.0000000000 0.0000000000 9.0637450199e-01 0.0000000000\n",
      "01 2.3000000000 -2.6666666667 -0.9866666667 1.1616666667 2.2962500000 1.0637450199e-01 0.1173626374\n",
      "02 2.4133333333 -2.7461111111 -0.9245277778 1.1856736111 2.3455052083 3.6947764498e-02 0.3473366625\n",
      "03 2.4176597222 -2.7188379630 -0.9170605324 1.1954403067 2.3312937717 1.1285220230e-02 0.3054371593\n",
      "04 2.4089746238 -2.7101982832 -0.9162033772 1.1956432409 2.3271374871 2.6001218506e-03 0.2304006300\n",
      "05 2.4066004151 -2.7090535172 -0.9162733170 1.1953183952 2.3266288305 2.2591310731e-04 0.0868855847\n",
      "06 2.4063317085 -2.7090955434 -0.9163241296 1.1952280089 2.3266597371 6.7803168236e-05 0.3001294128\n",
      "07 2.4063549183 -2.7091503463 -0.9163343488 1.1952175558 2.3266871970 1.9583735766e-05 0.2888321634\n",
      "08 2.4063711738 -2.7091626556 -0.9163349878 1.1952183826 2.3266929852 3.3282020242e-06 0.1699472493\n",
      "09 2.4063744109 -2.7091636720 -0.9163347564 1.1952189956 2.3266933980 3.2542526407e-07 0.0977780981\n",
      "10 2.4063746071 -2.7091634560 -0.9163346729 1.1952191196 2.3266932799 1.0934433314e-07 0.3360044385\n",
      "11 2.4063745322 -2.7091633619 -0.9163346606 1.1952191274 2.3266932339 3.0228377579e-08 0.2764512500\n",
      "12 2.4063745056 -2.7091633463 -0.9163346607 1.1952191247 2.3266932268 3.6318272834e-09 0.1201462855\n",
      "13 2.4063745018 -2.7091633459 -0.9163346612 1.1952191236 2.3266932268 6.7375749424e-10 0.1855147400\n",
      "14 2.4063745018 -2.7091633465 -0.9163346613 1.1952191235 2.3266932270 2.0147572499e-10 0.2990330003\n",
      "15 2.4063745020 -2.7091633466 -0.9163346614 1.1952191235 2.3266932271 4.1882941559e-11 0.2078808331\n",
      "16 2.4063745020 -2.7091633466 -0.9163346614 1.1952191235 2.3266932271 2.8799185259e-12 0.0687611333\n",
      "17 2.4063745020 -2.7091633466 -0.9163346614 1.1952191235 2.3266932271 1.1781686737e-12 0.4090979183\n",
      "18 2.4063745020 -2.7091633466 -0.9163346614 1.1952191235 2.3266932271 3.3484326423e-13 0.2842065586\n",
      "19 2.4063745020 -2.7091633466 -0.9163346614 1.1952191235 2.3266932271 5.1070259133e-14 0.1525198939\n",
      "20 2.4063745020 -2.7091633466 -0.9163346614 1.1952191235 2.3266932271 6.6613381478e-15 0.1304347826\n",
      "21 2.4063745020 -2.7091633466 -0.9163346614 1.1952191235 2.3266932271 2.2204460493e-15 0.3333333333\n",
      "22 2.4063745020 -2.7091633466 -0.9163346614 1.1952191235 2.3266932271 8.8817841970e-16 0.4000000000\n",
      "23 2.4063745020 -2.7091633466 -0.9163346614 1.1952191235 2.3266932271 8.8817841970e-16 1.0000000000\n",
      "24 2.4063745020 -2.7091633466 -0.9163346614 1.1952191235 2.3266932271 8.8817841970e-16 1.0000000000\n"
     ]
    }
   ],
   "source": [
    "def jacobi_iterative_method(a,b,tol=1e-3,max_iter=25):\n",
    "    x_true = np.linalg.solve(a,b)\n",
    "    x = np.zeros(5) # initial guess.\n",
    "    x_next = np.zeros_like(x)\n",
    "    error_pre = np.inf  \n",
    "    print('i        x1           x2           x3            x4            x5           error       ratio')\n",
    "    for i in range(max_iter):\n",
    "        x_next[0] = 1./4.  * (b[0] - 1.*x[1] - 1.*x[2] + 0.*x[3] + 0.*x[4])\n",
    "        x_next[1] = 1./-3. * (b[1] + 1.*x[0] - 1.*x[2] - 1.*x[3] + 0.*x[4])\n",
    "        x_next[2] = 1./5.  * (b[2] - 2.*x[0] - 1.*x[1] + 1.*x[3] + 1.*x[4])\n",
    "        x_next[3] = 1./4.  * (b[3] + 1.*x[0] + 1.*x[1] + 1.*x[2] + 0.*x[4])\n",
    "        x_next[4] = 1./4.  * (b[4] - 0.*x[0] - 2.*x[1] + 1.*x[2] - 1.*x[3])\n",
    "        error = np.max(np.abs(x_next-x_true))\n",
    "        ratio = error / error_pre\n",
    "        print('%02d %.10f %.10f %.10f %.10f %.10f %.10e %.10f' %(i,x[0],x[1],x[2],x[3],x[4],error,ratio))\n",
    "        x = x_next\n",
    "        error_pre = error\n",
    "jacobi_iterative_method(a,b)"
   ]
  },
  {
   "cell_type": "code",
   "execution_count": null,
   "metadata": {},
   "outputs": [],
   "source": []
  }
 ],
 "metadata": {
  "kernelspec": {
   "display_name": "Python 2",
   "language": "python",
   "name": "python2"
  },
  "language_info": {
   "codemirror_mode": {
    "name": "ipython",
    "version": 2
   },
   "file_extension": ".py",
   "mimetype": "text/x-python",
   "name": "python",
   "nbconvert_exporter": "python",
   "pygments_lexer": "ipython2",
   "version": "2.7.15rc1"
  }
 },
 "nbformat": 4,
 "nbformat_minor": 2
}
