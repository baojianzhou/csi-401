{
 "cells": [
  {
   "cell_type": "code",
   "execution_count": 15,
   "metadata": {},
   "outputs": [
    {
     "name": "stdout",
     "output_type": "stream",
     "text": [
      "iteration: 0 x0: 2.9800000000000000 y0: 0.1500000000000000\n",
      "iteration: 1 x1: 2.9984225251557448 y1: 0.1484194583612191\n",
      "iteration: 2 x2: 2.9983653505591192 y2: 0.1484309207905511\n",
      "iteration: 3 x3: 2.9983653481208288 y3: 0.1484309774503769\n",
      "iteration: 4 x4: 2.9983653481116477 y4: 0.1484309777283107\n",
      "iteration: 5 x5: 2.9983653481116028 y5: 0.1484309777296741\n",
      "------------------------------\n",
      "final solution of x: 2.9983653481116028\n",
      "final solution of y: 0.1484309777296741\n",
      "------------------------------\n",
      "absolute error of x: 0.0000000000000000\n",
      "absolute error of y: 0.0000000000001803\n"
     ]
    }
   ],
   "source": [
    "import numpy as np\n",
    "\n",
    "def f1(x,y):\n",
    "    return x ** 2. + x * (y ** 3.) - 9.\n",
    "def f2(x,y):\n",
    "    return 3.* (x ** 2.) * y - y ** 3. - 4.\n",
    "\n",
    "def jacobian_matrix(x,y):\n",
    "    jacobian = np.zeros(shape=(2,2))\n",
    "    jacobian[0][0] = 2.*x + y ** 3.\n",
    "    jacobian[0][1] = 3. * x * y ** 2.\n",
    "    jacobian[1][0] = 6.* x * y\n",
    "    jacobian[1][1] = 3.* x ** 2. + 3. * y ** 2.\n",
    "    return jacobian\n",
    "\n",
    "def inverse_mat(a):\n",
    "    a,b,c,d = a[0][0],a[0][1],a[1][0],a[1][1]\n",
    "    return (1./(a*d-b*c))*np.asarray([[d,-b],[-c,a]])\n",
    "\n",
    "def newton_method(x0,y0):\n",
    "    i = 0\n",
    "    x_i = np.asarray([x0,y0])\n",
    "    while True:\n",
    "        print('iteration: %d x%d: %.16f y%d: %.16f' %(i,i,x_i[0],i,x_i[1]))\n",
    "        a = jacobian_matrix(x_i[0],x_i[1])\n",
    "        f = np.asarray([f1(x_i[0],x_i[1]),f2(x_i[0],x_i[1])])\n",
    "        x_i_1 = x_i - np.dot(inverse_mat(a),f)\n",
    "        if np.linalg.norm(x_i_1 - x_i) <= 1e-12:\n",
    "            break\n",
    "        x_i = x_i_1\n",
    "        i += 1\n",
    "    print('-'*30)\n",
    "    print('final solution of x: %.16f'%(x_i[0]))\n",
    "    print('final solution of y: %.16f'%(x_i[1]))\n",
    "    print('-'*30)\n",
    "    print('absolute error of x: %.16f' % abs(f1(x_i[0],x_i[1])))\n",
    "    print('absolute error of y: %.16f' % abs(f2(x_i[0],x_i[1])))\n",
    "\n",
    "newton_method(2.98,0.15)\n",
    "        \n",
    "    "
   ]
  },
  {
   "cell_type": "code",
   "execution_count": null,
   "metadata": {},
   "outputs": [],
   "source": []
  }
 ],
 "metadata": {
  "kernelspec": {
   "display_name": "Python 2",
   "language": "python",
   "name": "python2"
  },
  "language_info": {
   "codemirror_mode": {
    "name": "ipython",
    "version": 2
   },
   "file_extension": ".py",
   "mimetype": "text/x-python",
   "name": "python",
   "nbconvert_exporter": "python",
   "pygments_lexer": "ipython2",
   "version": "2.7.15rc1"
  }
 },
 "nbformat": 4,
 "nbformat_minor": 2
}
